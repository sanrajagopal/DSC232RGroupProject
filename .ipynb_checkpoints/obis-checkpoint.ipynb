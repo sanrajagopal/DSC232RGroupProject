{
 "cells": [
  {
   "cell_type": "markdown",
   "id": "a5282d27-ae5f-44f2-8d73-838767bf6376",
   "metadata": {},
   "source": [
    "# OBIS Dataset - Using environmental and temporal features to classify species into IUCN Redlist Categories\n",
    "\n",
    "## To get the OBIS data set - Download parquet file using link: https://obis.org/data/access/"
   ]
  },
  {
   "cell_type": "markdown",
   "id": "5f72cce6-6533-433e-be35-12d7be58fe77",
   "metadata": {},
   "source": [
    "### Setup"
   ]
  },
  {
   "cell_type": "code",
   "execution_count": 1,
   "id": "7d008a7d-97e3-42e8-b768-805a21fdeafc",
   "metadata": {},
   "outputs": [
    {
     "name": "stderr",
     "output_type": "stream",
     "text": [
      "Matplotlib created a temporary cache directory at /scratch/erichards/job_30662277/matplotlib-xgst2yx8 because the default path (/home/jovyan/.cache/matplotlib) is not a writable directory; it is highly recommended to set the MPLCONFIGDIR environment variable to a writable directory, in particular to speed up the import of Matplotlib and to better support multiprocessing.\n"
     ]
    }
   ],
   "source": [
    "# Importing important libraries\n",
    "import os, pickle, glob\n",
    "from pyspark import SparkContext\n",
    "from pyspark.sql import SQLContext\n",
    "from pyspark.sql import SparkSession\n",
    "from pyspark.sql.types import Row, StructField, StructType, StringType, IntegerType\n",
    "from pyspark.sql import functions as f\n",
    "from pyspark.sql.window import Window\n",
    "\n",
    "from pyspark.ml import Pipeline\n",
    "from pyspark.ml.feature import VectorAssembler\n",
    "from pyspark.ml.classification import RandomForestClassifier\n",
    "from pyspark.ml.evaluation import MulticlassClassificationEvaluator\n",
    "from pyspark.ml.tuning import CrossValidator, ParamGridBuilder\n",
    "\n",
    "from pyspark.mllib.evaluation import MulticlassMetrics\n",
    "\n",
    "import seaborn as sns\n",
    "import pandas as pd\n",
    "import numpy as np\n",
    "import math\n",
    "import matplotlib.pyplot as plt "
   ]
  },
  {
   "cell_type": "code",
   "execution_count": 2,
   "id": "4fdb022a-020d-447a-90f4-565a7d7cf3e9",
   "metadata": {},
   "outputs": [],
   "source": [
    "# Builds the Spark Session\n",
    "sc = SparkSession.builder \\\n",
    "    .config(\"spark.driver.memory\", \"8g\") \\\n",
    "\t.config(\"spark.executor.memory\", \"8g\") \\\n",
    "    .config('spark.executor.instances', 7) \\\n",
    "\t.getOrCreate()"
   ]
  },
  {
   "cell_type": "code",
   "execution_count": 3,
   "id": "2f47fd11-ebbf-48f7-84d8-93d85932ba95",
   "metadata": {},
   "outputs": [
    {
     "name": "stderr",
     "output_type": "stream",
     "text": [
      "/usr/local/spark/python/pyspark/sql/context.py:113: FutureWarning: Deprecated in 3.0.0. Use SparkSession.builder.getOrCreate() instead.\n",
      "  warnings.warn(\n"
     ]
    }
   ],
   "source": [
    "# Sets up the sql context\n",
    "sqlContext = SQLContext(sc)"
   ]
  },
  {
   "cell_type": "markdown",
   "id": "34acde07-21ec-418d-b10c-d3ed33cdf150",
   "metadata": {},
   "source": [
    "### Loading the data\n",
    "\n",
    "#### Change the path to where you saved your OBIS parquet file"
   ]
  },
  {
   "cell_type": "code",
   "execution_count": 4,
   "id": "d085678b-7bba-44e4-8ea1-5a4b7417b4bf",
   "metadata": {},
   "outputs": [],
   "source": [
    "# Loading parquet file \n",
    "df = sqlContext.read.load('../obis_20231025.parquet')"
   ]
  },
  {
   "cell_type": "code",
   "execution_count": 5,
   "id": "12d0f63d-3d7a-4bc0-bd95-900f7d7101d2",
   "metadata": {},
   "outputs": [],
   "source": [
    "# Loading csv file\n",
    "df_iucn = sqlContext.read.format(\"csv\") \\\n",
    "    .option(\"header\", \"true\") \\\n",
    "    .option(\"inferSchema\", \"true\") \\\n",
    "    .load('assessments.csv')"
   ]
  },
  {
   "cell_type": "code",
   "execution_count": 6,
   "id": "95a6888d-067d-41d5-8cb3-9d5ce511773a",
   "metadata": {},
   "outputs": [
    {
     "name": "stdout",
     "output_type": "stream",
     "text": [
      "root\n",
      " |-- id: string (nullable = true)\n",
      " |-- dataset_id: string (nullable = true)\n",
      " |-- decimalLongitude: float (nullable = true)\n",
      " |-- decimalLatitude: float (nullable = true)\n",
      " |-- date_start: long (nullable = true)\n",
      " |-- date_mid: long (nullable = true)\n",
      " |-- date_end: long (nullable = true)\n",
      " |-- date_year: long (nullable = true)\n",
      " |-- scientificName: string (nullable = true)\n",
      " |-- originalScientificName: string (nullable = true)\n",
      " |-- minimumDepthInMeters: float (nullable = true)\n",
      " |-- maximumDepthInMeters: float (nullable = true)\n",
      " |-- depth: float (nullable = true)\n",
      " |-- coordinateUncertaintyInMeters: float (nullable = true)\n",
      " |-- flags: string (nullable = true)\n",
      " |-- dropped: boolean (nullable = true)\n",
      " |-- absence: boolean (nullable = true)\n",
      " |-- shoredistance: string (nullable = true)\n",
      " |-- bathymetry: string (nullable = true)\n",
      " |-- sst: string (nullable = true)\n",
      " |-- sss: string (nullable = true)\n",
      " |-- marine: boolean (nullable = true)\n",
      " |-- brackish: boolean (nullable = true)\n",
      " |-- freshwater: boolean (nullable = true)\n",
      " |-- terrestrial: boolean (nullable = true)\n",
      " |-- taxonRank: string (nullable = true)\n",
      " |-- AphiaID: long (nullable = true)\n",
      " |-- redlist_category: string (nullable = true)\n",
      " |-- superdomain: string (nullable = true)\n",
      " |-- domain: string (nullable = true)\n",
      " |-- kingdom: string (nullable = true)\n",
      " |-- subkingdom: string (nullable = true)\n",
      " |-- infrakingdom: string (nullable = true)\n",
      " |-- phylum: string (nullable = true)\n",
      " |-- phylum_division: string (nullable = true)\n",
      " |-- subphylum_subdivision: string (nullable = true)\n",
      " |-- subphylum: string (nullable = true)\n",
      " |-- infraphylum: string (nullable = true)\n",
      " |-- parvphylum: string (nullable = true)\n",
      " |-- gigaclass: string (nullable = true)\n",
      " |-- megaclass: string (nullable = true)\n",
      " |-- superclass: string (nullable = true)\n",
      " |-- class: string (nullable = true)\n",
      " |-- subclass: string (nullable = true)\n",
      " |-- infraclass: string (nullable = true)\n",
      " |-- subterclass: string (nullable = true)\n",
      " |-- superorder: string (nullable = true)\n",
      " |-- order: string (nullable = true)\n",
      " |-- suborder: string (nullable = true)\n",
      " |-- infraorder: string (nullable = true)\n",
      " |-- parvorder: string (nullable = true)\n",
      " |-- superfamily: string (nullable = true)\n",
      " |-- family: string (nullable = true)\n",
      " |-- subfamily: string (nullable = true)\n",
      " |-- supertribe: string (nullable = true)\n",
      " |-- tribe: string (nullable = true)\n",
      " |-- subtribe: string (nullable = true)\n",
      " |-- genus: string (nullable = true)\n",
      " |-- subgenus: string (nullable = true)\n",
      " |-- section: string (nullable = true)\n",
      " |-- subsection: string (nullable = true)\n",
      " |-- series: string (nullable = true)\n",
      " |-- species: string (nullable = true)\n",
      " |-- subspecies: string (nullable = true)\n",
      " |-- natio: string (nullable = true)\n",
      " |-- variety: string (nullable = true)\n",
      " |-- subvariety: string (nullable = true)\n",
      " |-- forma: string (nullable = true)\n",
      " |-- subforma: string (nullable = true)\n",
      " |-- superdomainid: long (nullable = true)\n",
      " |-- domainid: long (nullable = true)\n",
      " |-- kingdomid: long (nullable = true)\n",
      " |-- subkingdomid: long (nullable = true)\n",
      " |-- infrakingdomid: long (nullable = true)\n",
      " |-- phylumid: long (nullable = true)\n",
      " |-- phylum_divisionid: long (nullable = true)\n",
      " |-- subphylum_subdivisionid: long (nullable = true)\n",
      " |-- subphylumid: long (nullable = true)\n",
      " |-- infraphylumid: long (nullable = true)\n",
      " |-- parvphylumid: long (nullable = true)\n",
      " |-- gigaclassid: long (nullable = true)\n",
      " |-- megaclassid: long (nullable = true)\n",
      " |-- superclassid: long (nullable = true)\n",
      " |-- classid: long (nullable = true)\n",
      " |-- subclassid: long (nullable = true)\n",
      " |-- infraclassid: long (nullable = true)\n",
      " |-- subterclassid: long (nullable = true)\n",
      " |-- superorderid: long (nullable = true)\n",
      " |-- orderid: long (nullable = true)\n",
      " |-- suborderid: long (nullable = true)\n",
      " |-- infraorderid: long (nullable = true)\n",
      " |-- parvorderid: long (nullable = true)\n",
      " |-- superfamilyid: long (nullable = true)\n",
      " |-- familyid: long (nullable = true)\n",
      " |-- subfamilyid: long (nullable = true)\n",
      " |-- supertribeid: long (nullable = true)\n",
      " |-- tribeid: long (nullable = true)\n",
      " |-- subtribeid: long (nullable = true)\n",
      " |-- genusid: long (nullable = true)\n",
      " |-- subgenusid: long (nullable = true)\n",
      " |-- sectionid: long (nullable = true)\n",
      " |-- subsectionid: long (nullable = true)\n",
      " |-- seriesid: long (nullable = true)\n",
      " |-- speciesid: long (nullable = true)\n",
      " |-- subspeciesid: long (nullable = true)\n",
      " |-- natioid: long (nullable = true)\n",
      " |-- varietyid: long (nullable = true)\n",
      " |-- subvarietyid: long (nullable = true)\n",
      " |-- formaid: long (nullable = true)\n",
      " |-- subformaid: long (nullable = true)\n",
      " |-- type: string (nullable = true)\n",
      " |-- modified: string (nullable = true)\n",
      " |-- language: string (nullable = true)\n",
      " |-- license: string (nullable = true)\n",
      " |-- rightsHolder: string (nullable = true)\n",
      " |-- accessRights: string (nullable = true)\n",
      " |-- bibliographicCitation: string (nullable = true)\n",
      " |-- references: string (nullable = true)\n",
      " |-- institutionID: string (nullable = true)\n",
      " |-- collectionID: string (nullable = true)\n",
      " |-- datasetID: string (nullable = true)\n",
      " |-- institutionCode: string (nullable = true)\n",
      " |-- collectionCode: string (nullable = true)\n",
      " |-- datasetName: string (nullable = true)\n",
      " |-- ownerInstitutionCode: string (nullable = true)\n",
      " |-- basisOfRecord: string (nullable = true)\n",
      " |-- informationWithheld: string (nullable = true)\n",
      " |-- dataGeneralizations: string (nullable = true)\n",
      " |-- dynamicProperties: string (nullable = true)\n",
      " |-- materialSampleID: string (nullable = true)\n",
      " |-- occurrenceID: string (nullable = true)\n",
      " |-- catalogNumber: string (nullable = true)\n",
      " |-- occurrenceRemarks: string (nullable = true)\n",
      " |-- recordNumber: string (nullable = true)\n",
      " |-- recordedBy: string (nullable = true)\n",
      " |-- recordedByID: string (nullable = true)\n",
      " |-- individualCount: string (nullable = true)\n",
      " |-- organismQuantity: string (nullable = true)\n",
      " |-- organismQuantityType: string (nullable = true)\n",
      " |-- sex: string (nullable = true)\n",
      " |-- lifeStage: string (nullable = true)\n",
      " |-- reproductiveCondition: string (nullable = true)\n",
      " |-- behavior: string (nullable = true)\n",
      " |-- establishmentMeans: string (nullable = true)\n",
      " |-- occurrenceStatus: string (nullable = true)\n",
      " |-- preparations: string (nullable = true)\n",
      " |-- disposition: string (nullable = true)\n",
      " |-- otherCatalogNumbers: string (nullable = true)\n",
      " |-- associatedMedia: string (nullable = true)\n",
      " |-- associatedReferences: string (nullable = true)\n",
      " |-- associatedSequences: string (nullable = true)\n",
      " |-- associatedTaxa: string (nullable = true)\n",
      " |-- organismID: string (nullable = true)\n",
      " |-- organismName: string (nullable = true)\n",
      " |-- organismScope: string (nullable = true)\n",
      " |-- associatedOccurrences: string (nullable = true)\n",
      " |-- associatedOrganisms: string (nullable = true)\n",
      " |-- previousIdentifications: string (nullable = true)\n",
      " |-- organismRemarks: string (nullable = true)\n",
      " |-- eventID: string (nullable = true)\n",
      " |-- parentEventID: string (nullable = true)\n",
      " |-- samplingProtocol: string (nullable = true)\n",
      " |-- sampleSizeValue: string (nullable = true)\n",
      " |-- sampleSizeUnit: string (nullable = true)\n",
      " |-- samplingEffort: string (nullable = true)\n",
      " |-- eventDate: string (nullable = true)\n",
      " |-- eventTime: string (nullable = true)\n",
      " |-- startDayOfYear: string (nullable = true)\n",
      " |-- endDayOfYear: string (nullable = true)\n",
      " |-- year: string (nullable = true)\n",
      " |-- month: string (nullable = true)\n",
      " |-- day: string (nullable = true)\n",
      " |-- verbatimEventDate: string (nullable = true)\n",
      " |-- habitat: string (nullable = true)\n",
      " |-- fieldNumber: string (nullable = true)\n",
      " |-- fieldNotes: string (nullable = true)\n",
      " |-- eventRemarks: string (nullable = true)\n",
      " |-- locationID: string (nullable = true)\n",
      " |-- higherGeographyID: string (nullable = true)\n",
      " |-- higherGeography: string (nullable = true)\n",
      " |-- continent: string (nullable = true)\n",
      " |-- waterBody: string (nullable = true)\n",
      " |-- islandGroup: string (nullable = true)\n",
      " |-- island: string (nullable = true)\n",
      " |-- country: string (nullable = true)\n",
      " |-- countryCode: string (nullable = true)\n",
      " |-- stateProvince: string (nullable = true)\n",
      " |-- county: string (nullable = true)\n",
      " |-- municipality: string (nullable = true)\n",
      " |-- locality: string (nullable = true)\n",
      " |-- verbatimLocality: string (nullable = true)\n",
      " |-- verbatimElevation: string (nullable = true)\n",
      " |-- minimumElevationInMeters: string (nullable = true)\n",
      " |-- maximumElevationInMeters: string (nullable = true)\n",
      " |-- verbatimDepth: string (nullable = true)\n",
      " |-- minimumDistanceAboveSurfaceInMeters: string (nullable = true)\n",
      " |-- maximumDistanceAboveSurfaceInMeters: string (nullable = true)\n",
      " |-- locationAccordingTo: string (nullable = true)\n",
      " |-- locationRemarks: string (nullable = true)\n",
      " |-- verbatimCoordinates: string (nullable = true)\n",
      " |-- verbatimLatitude: string (nullable = true)\n",
      " |-- verbatimLongitude: string (nullable = true)\n",
      " |-- verbatimCoordinateSystem: string (nullable = true)\n",
      " |-- verbatimSRS: string (nullable = true)\n",
      " |-- geodeticDatum: string (nullable = true)\n",
      " |-- coordinatePrecision: string (nullable = true)\n",
      " |-- pointRadiusSpatialFit: string (nullable = true)\n",
      " |-- footprintWKT: string (nullable = true)\n",
      " |-- footprintSRS: string (nullable = true)\n",
      " |-- footprintSpatialFit: string (nullable = true)\n",
      " |-- georeferencedBy: string (nullable = true)\n",
      " |-- georeferencedDate: string (nullable = true)\n",
      " |-- georeferenceProtocol: string (nullable = true)\n",
      " |-- georeferenceSources: string (nullable = true)\n",
      " |-- georeferenceVerificationStatus: string (nullable = true)\n",
      " |-- georeferenceRemarks: string (nullable = true)\n",
      " |-- geologicalContextID: string (nullable = true)\n",
      " |-- earliestEonOrLowestEonothem: string (nullable = true)\n",
      " |-- latestEonOrHighestEonothem: string (nullable = true)\n",
      " |-- earliestEraOrLowestErathem: string (nullable = true)\n",
      " |-- latestEraOrHighestErathem: string (nullable = true)\n",
      " |-- earliestPeriodOrLowestSystem: string (nullable = true)\n",
      " |-- latestPeriodOrHighestSystem: string (nullable = true)\n",
      " |-- earliestEpochOrLowestSeries: string (nullable = true)\n",
      " |-- latestEpochOrHighestSeries: string (nullable = true)\n",
      " |-- earliestAgeOrLowestStage: string (nullable = true)\n",
      " |-- latestAgeOrHighestStage: string (nullable = true)\n",
      " |-- lowestBiostratigraphicZone: string (nullable = true)\n",
      " |-- highestBiostratigraphicZone: string (nullable = true)\n",
      " |-- lithostratigraphicTerms: string (nullable = true)\n",
      " |-- group: string (nullable = true)\n",
      " |-- formation: string (nullable = true)\n",
      " |-- member: string (nullable = true)\n",
      " |-- bed: string (nullable = true)\n",
      " |-- identificationID: string (nullable = true)\n",
      " |-- identifiedBy: string (nullable = true)\n",
      " |-- identifiedByID: string (nullable = true)\n",
      " |-- dateIdentified: string (nullable = true)\n",
      " |-- identificationReferences: string (nullable = true)\n",
      " |-- identificationRemarks: string (nullable = true)\n",
      " |-- identificationQualifier: string (nullable = true)\n",
      " |-- identificationVerificationStatus: string (nullable = true)\n",
      " |-- typeStatus: string (nullable = true)\n",
      " |-- taxonID: string (nullable = true)\n",
      " |-- scientificNameID: string (nullable = true)\n",
      " |-- acceptedNameUsageID: string (nullable = true)\n",
      " |-- parentNameUsageID: string (nullable = true)\n",
      " |-- originalNameUsageID: string (nullable = true)\n",
      " |-- nameAccordingToID: string (nullable = true)\n",
      " |-- namePublishedInID: string (nullable = true)\n",
      " |-- taxonConceptID: string (nullable = true)\n",
      " |-- acceptedNameUsage: string (nullable = true)\n",
      " |-- parentNameUsage: string (nullable = true)\n",
      " |-- originalNameUsage: string (nullable = true)\n",
      " |-- nameAccordingTo: string (nullable = true)\n",
      " |-- namePublishedIn: string (nullable = true)\n",
      " |-- namePublishedInYear: string (nullable = true)\n",
      " |-- higherClassification: string (nullable = true)\n",
      " |-- specificEpithet: string (nullable = true)\n",
      " |-- infraspecificEpithet: string (nullable = true)\n",
      " |-- verbatimTaxonRank: string (nullable = true)\n",
      " |-- scientificNameAuthorship: string (nullable = true)\n",
      " |-- vernacularName: string (nullable = true)\n",
      " |-- nomenclaturalCode: string (nullable = true)\n",
      " |-- taxonomicStatus: string (nullable = true)\n",
      " |-- nomenclaturalStatus: string (nullable = true)\n",
      " |-- taxonRemarks: string (nullable = true)\n",
      " |-- geometry: string (nullable = true)\n",
      "\n"
     ]
    }
   ],
   "source": [
    "# Show the schema for OBIS\n",
    "df.printSchema()"
   ]
  },
  {
   "cell_type": "code",
   "execution_count": 7,
   "id": "3cb8beee-50f8-49ad-b260-49d963232293",
   "metadata": {},
   "outputs": [
    {
     "name": "stdout",
     "output_type": "stream",
     "text": [
      "root\n",
      " |-- scientificName: string (nullable = true)\n",
      " |-- redlistCategory: string (nullable = true)\n",
      " |-- assessmentDate: string (nullable = true)\n",
      "\n"
     ]
    }
   ],
   "source": [
    "# Show the schema for the IUCN dataset\n",
    "df_iucn.printSchema()"
   ]
  },
  {
   "cell_type": "markdown",
   "id": "18297515-6a19-477b-9d05-75f7232827d1",
   "metadata": {},
   "source": [
    "### Data Exploration"
   ]
  },
  {
   "cell_type": "markdown",
   "id": "def7bc65-33e7-47f8-86a4-ef4b13c6ae7c",
   "metadata": {},
   "source": [
    "#### Distinct Observations per year"
   ]
  },
  {
   "cell_type": "code",
   "execution_count": 8,
   "id": "b3ce5bb2-8087-4222-b940-ccc899a875b0",
   "metadata": {},
   "outputs": [],
   "source": [
    "# Aggregates counts for distinct dates\n",
    "df_dates = df.groupBy(df.date_year).agg({'date_year':'count'}).sort(df.date_year).cache()"
   ]
  },
  {
   "cell_type": "code",
   "execution_count": 9,
   "id": "bebc2de8-0ba2-4c0e-bbc5-bd61abb282d5",
   "metadata": {},
   "outputs": [],
   "source": [
    "# Renames column\n",
    "df_dates = df_dates.withColumnRenamed('count(date_year)','obs_per_year')"
   ]
  },
  {
   "cell_type": "code",
   "execution_count": 10,
   "id": "c75409ac-9dff-4c38-b36b-f2109511e0b9",
   "metadata": {},
   "outputs": [
    {
     "name": "stdout",
     "output_type": "stream",
     "text": [
      "+---------+------------+\n",
      "|date_year|obs_per_year|\n",
      "+---------+------------+\n",
      "|     NULL|           0|\n",
      "|      201|           1|\n",
      "|      931|           1|\n",
      "|      941|           1|\n",
      "|      966|           1|\n",
      "|     1064|           2|\n",
      "|     1071|           2|\n",
      "|     1073|           2|\n",
      "|     1076|           1|\n",
      "|     1103|           1|\n",
      "|     1104|           1|\n",
      "|     1116|           2|\n",
      "|     1119|           2|\n",
      "|     1193|           1|\n",
      "|     1199|           4|\n",
      "|     1200|           1|\n",
      "|     1291|           1|\n",
      "|     1520|           1|\n",
      "|     1526|           1|\n",
      "|     1596|           1|\n",
      "+---------+------------+\n",
      "only showing top 20 rows\n",
      "\n"
     ]
    }
   ],
   "source": [
    "# Shows date counts\n",
    "df_dates.show()"
   ]
  },
  {
   "cell_type": "code",
   "execution_count": 11,
   "id": "2e28c6c4-7ed8-4c19-83f9-3a83908e0682",
   "metadata": {},
   "outputs": [],
   "source": [
    "# Converts pyspark df to pandas df\n",
    "pandas_df_dates = df_dates.toPandas()"
   ]
  },
  {
   "cell_type": "code",
   "execution_count": 12,
   "id": "3d4a73ae-18bc-4e80-ab05-9bd0666c3c2f",
   "metadata": {},
   "outputs": [],
   "source": [
    "# Filtering out dates below 1899 \n",
    "pandas_df_dates_cut = pandas_df_dates[pandas_df_dates.date_year > 1899]"
   ]
  },
  {
   "cell_type": "code",
   "execution_count": 13,
   "id": "e5eabed3-c205-4611-9ae8-b16d6ea9c8d4",
   "metadata": {},
   "outputs": [
    {
     "data": {
      "text/plain": [
       "Text(0, 0.5, 'Observations(per 10 million)')"
      ]
     },
     "execution_count": 13,
     "metadata": {},
     "output_type": "execute_result"
    },
    {
     "data": {
      "image/png": "[encoded data removed]",
      "text/plain": [
       "<Figure size 640x480 with 1 Axes>"
      ]
     },
     "metadata": {},
     "output_type": "display_data"
    }
   ],
   "source": [
    "# Plots out counts per year\n",
    "plt.bar(pandas_df_dates_cut.date_year,pandas_df_dates_cut.obs_per_year)\n",
    "plt.title(\"Number of Observations per Year\")\n",
    "plt.xlabel(\"Years\")\n",
    "plt.ylabel(\"Observations(per 10 million)\")"
   ]
  },
  {
   "cell_type": "markdown",
   "id": "f0d4cd2a-2f34-4ad7-ba13-2de684d63676",
   "metadata": {},
   "source": [
    "#### Distinct IUCN classification by Species "
   ]
  },
  {
   "cell_type": "code",
   "execution_count": 14,
   "id": "c638d86c-0984-494c-856a-368032a5f782",
   "metadata": {},
   "outputs": [
    {
     "data": {
      "text/plain": [
       "1979"
      ]
     },
     "execution_count": 14,
     "metadata": {},
     "output_type": "execute_result"
    }
   ],
   "source": [
    "# Distinct counts of species \n",
    "df.select(\"scientificName\",\"redlist_category\").filter(df.scientificName != \"\").filter(df.redlist_category != \"\").distinct().count()"
   ]
  },
  {
   "cell_type": "code",
   "execution_count": 15,
   "id": "55deb243-a34b-4cb4-8b18-8424bde9c103",
   "metadata": {},
   "outputs": [],
   "source": [
    "# Grabs the distinct scientificNames and their redlist categories\n",
    "df_redlist_distinct = df.select(\"scientificName\",\"redlist_category\").filter(df.scientificName != \"\").filter(df.redlist_category != \"\").distinct().cache()"
   ]
  },
  {
   "cell_type": "code",
   "execution_count": 16,
   "id": "c6c758d2-ff1a-40c2-a9ce-c10f94247b68",
   "metadata": {},
   "outputs": [
    {
     "name": "stdout",
     "output_type": "stream",
     "text": [
      "+--------------------+----------------+\n",
      "|      scientificName|redlist_category|\n",
      "+--------------------+----------------+\n",
      "|  Glaucostegus typus|              CR|\n",
      "|Echinopelta fistu...|              NT|\n",
      "|   Hippocampus comes|              VU|\n",
      "|Diplobatis colomb...|              VU|\n",
      "|Eretmochelys imbr...|              CR|\n",
      "|Pterodroma arminj...|              VU|\n",
      "|  Porites nigrescens|              VU|\n",
      "|  Squalus montalbani|              VU|\n",
      "|   Ecsenius randalli|              VU|\n",
      "|   Leptastrea bottae|              NT|\n",
      "|    Dialommus fuscus|              VU|\n",
      "|       Oxyura maccoa|              EN|\n",
      "|Glaucostegus gran...|              CR|\n",
      "|  Centrophorus uyato|              EN|\n",
      "|Argyrosomus inodorus|              VU|\n",
      "|Caulastraea echin...|              VU|\n",
      "|   Alveopora viridis|              NT|\n",
      "|    Calidris pusilla|              NT|\n",
      "|   Hippocampus reidi|              NT|\n",
      "|    Leptoria phrygia|              NT|\n",
      "+--------------------+----------------+\n",
      "only showing top 20 rows\n",
      "\n"
     ]
    }
   ],
   "source": [
    "# IUCN classification by species \n",
    "df_redlist_distinct.show()"
   ]
  },
  {
   "cell_type": "code",
   "execution_count": 17,
   "id": "08745f8d-39fd-459e-8911-d13fa9d1963e",
   "metadata": {},
   "outputs": [],
   "source": [
    "# Aggregates based on redlist groups\n",
    "df_redlist_count = df_redlist_distinct.select(\"redlist_category\").groupBy(\"redlist_category\").agg({'redlist_category':'count'})"
   ]
  },
  {
   "cell_type": "code",
   "execution_count": 18,
   "id": "4af9f099-0022-44b9-a41b-45ec9ddf7db9",
   "metadata": {},
   "outputs": [],
   "source": [
    "# Renames columns\n",
    "df_redlist_count = df_redlist_count.withColumnRenamed('count(redlist_category)','obs_per_cat')"
   ]
  },
  {
   "cell_type": "code",
   "execution_count": 19,
   "id": "f7b3cedf-5d4e-4a7d-b3a1-814cb02510c1",
   "metadata": {},
   "outputs": [
    {
     "name": "stdout",
     "output_type": "stream",
     "text": [
      "+----------------+-----------+\n",
      "|redlist_category|obs_per_cat|\n",
      "+----------------+-----------+\n",
      "|              EX|          8|\n",
      "|              NT|        562|\n",
      "|           LR/nt|          5|\n",
      "|              EN|        371|\n",
      "|              CR|        225|\n",
      "|           LR/cd|          5|\n",
      "|              EW|          1|\n",
      "|              VU|        802|\n",
      "+----------------+-----------+\n",
      "\n"
     ]
    }
   ],
   "source": [
    "# Count of unique redlist categorized species\n",
    "df_redlist_count.show()"
   ]
  },
  {
   "cell_type": "code",
   "execution_count": 20,
   "id": "03b133ca-859f-440c-bf7a-0d383ba659bd",
   "metadata": {},
   "outputs": [],
   "source": [
    "# Converts pyspark df to pandas df\n",
    "pandas_redlist_count = df_redlist_count.toPandas()"
   ]
  },
  {
   "cell_type": "code",
   "execution_count": 21,
   "id": "c5375308-4ad4-4e99-87a8-a39e810cb993",
   "metadata": {},
   "outputs": [
    {
     "data": {
      "text/plain": [
       "Text(0, 0.5, 'Number of species')"
      ]
     },
     "execution_count": 21,
     "metadata": {},
     "output_type": "execute_result"
    },
    {
     "data": {
      "image/png": "[encoded data removed]",
      "text/plain": [
       "<Figure size 640x480 with 1 Axes>"
      ]
     },
     "metadata": {},
     "output_type": "display_data"
    }
   ],
   "source": [
    "# Plots out uniqe redlist category counts per year\n",
    "plt.bar(pandas_redlist_count.redlist_category,pandas_redlist_count.obs_per_cat)\n",
    "plt.title(\"Number of Distinct Species per IUCN classification\")\n",
    "plt.xlabel(\"IUCN Classification\")\n",
    "plt.ylabel(\"Number of species\")"
   ]
  },
  {
   "cell_type": "markdown",
   "id": "64a67ba5-c730-458d-9350-89bcd263b095",
   "metadata": {},
   "source": [
    "#### Orca observations over time"
   ]
  },
  {
   "cell_type": "code",
   "execution_count": 74,
   "id": "bc3c08c7-f892-400e-bfbd-c178ce3a4ce8",
   "metadata": {},
   "outputs": [],
   "source": [
    "# Creates df that checks orca sightings per year via aggregation\n",
    "df_orca = df.filter(df.scientificName == \"Orcinus orca\").select(\"date_year\").groupBy(\"date_year\").agg({'date_year':'count'}).sort(\"date_year\").cache()"
   ]
  },
  {
   "cell_type": "code",
   "execution_count": 23,
   "id": "1e5e091d-9106-4cbe-be33-289e9938aae1",
   "metadata": {},
   "outputs": [],
   "source": [
    "# Renames column\n",
    "df_orca = df_orca.withColumnRenamed('count(date_year)','obs_per_year')"
   ]
  },
  {
   "cell_type": "code",
   "execution_count": 24,
   "id": "f694380e-6a9c-448e-897d-eb33b9861ce2",
   "metadata": {},
   "outputs": [
    {
     "name": "stdout",
     "output_type": "stream",
     "text": [
      "+---------+------------+\n",
      "|date_year|obs_per_year|\n",
      "+---------+------------+\n",
      "|     NULL|           0|\n",
      "|     1758|           4|\n",
      "|     1822|           2|\n",
      "|     1824|           1|\n",
      "|     1844|           1|\n",
      "|     1848|           1|\n",
      "|     1866|           2|\n",
      "|     1871|           1|\n",
      "|     1872|           1|\n",
      "|     1884|           1|\n",
      "|     1894|           1|\n",
      "|     1910|           2|\n",
      "|     1911|           8|\n",
      "|     1912|           6|\n",
      "|     1913|           2|\n",
      "|     1916|           1|\n",
      "|     1918|           3|\n",
      "|     1920|           1|\n",
      "|     1921|           1|\n",
      "|     1924|           2|\n",
      "+---------+------------+\n",
      "only showing top 20 rows\n",
      "\n"
     ]
    }
   ],
   "source": [
    "# Shows orca sightings per year\n",
    "df_orca.show()"
   ]
  },
  {
   "cell_type": "code",
   "execution_count": 25,
   "id": "ddf86c21-f57c-4680-99c8-ac81f68405da",
   "metadata": {},
   "outputs": [],
   "source": [
    "# Converts pyspark df to pandas df\n",
    "pandas_orca = df_orca.toPandas()"
   ]
  },
  {
   "cell_type": "code",
   "execution_count": 26,
   "id": "d639d776-0876-4c92-9f9d-05e9aaedbbc4",
   "metadata": {
    "scrolled": true
   },
   "outputs": [
    {
     "data": {
      "text/plain": [
       "Text(0, 0.5, 'Number of observations')"
      ]
     },
     "execution_count": 26,
     "metadata": {},
     "output_type": "execute_result"
    },
    {
     "data": {
      "image/png": "[encoded data removed]",
      "text/plain": [
       "<Figure size 640x480 with 1 Axes>"
      ]
     },
     "metadata": {},
     "output_type": "display_data"
    }
   ],
   "source": [
    "# Plots out orca sightings per year\n",
    "plt.plot(pandas_orca.date_year,pandas_orca.obs_per_year)\n",
    "plt.title(\"Orca Observations over Time\")\n",
    "plt.xlabel(\"Year\")\n",
    "plt.ylabel(\"Number of observations\")"
   ]
  },
  {
   "cell_type": "markdown",
   "id": "157e3f27-4b18-4795-bc11-64ed09f7badf",
   "metadata": {},
   "source": [
    "#### Null Counts"
   ]
  },
  {
   "cell_type": "code",
   "execution_count": 27,
   "id": "41584183-f83a-4d49-8dd0-49f0328107d2",
   "metadata": {},
   "outputs": [
    {
     "name": "stdout",
     "output_type": "stream",
     "text": [
      "+-----------------------------------+----------+\n",
      "|column_name                        |null_count|\n",
      "+-----------------------------------+----------+\n",
      "|id                                 |0         |\n",
      "|dataset_id                         |0         |\n",
      "|decimalLongitude                   |0         |\n",
      "|decimalLatitude                    |0         |\n",
      "|date_start                         |5113635   |\n",
      "|date_mid                           |5113635   |\n",
      "|date_end                           |5113635   |\n",
      "|date_year                          |5113635   |\n",
      "|scientificName                     |14785     |\n",
      "|originalScientificName             |43072     |\n",
      "|minimumDepthInMeters               |55961796  |\n",
      "|maximumDepthInMeters               |52565014  |\n",
      "|depth                              |50283294  |\n",
      "|coordinateUncertaintyInMeters      |63710247  |\n",
      "|flags                              |178       |\n",
      "|dropped                            |0         |\n",
      "|absence                            |0         |\n",
      "|shoredistance                      |0         |\n",
      "|bathymetry                         |1725      |\n",
      "|sst                                |6727980   |\n",
      "|sss                                |6727980   |\n",
      "|marine                             |1067634   |\n",
      "|brackish                           |44341233  |\n",
      "|freshwater                         |41893557  |\n",
      "|terrestrial                        |24513293  |\n",
      "|taxonRank                          |14785     |\n",
      "|AphiaID                            |0         |\n",
      "|redlist_category                   |107427936 |\n",
      "|superdomain                        |0         |\n",
      "|domain                             |119568135 |\n",
      "|kingdom                            |104529    |\n",
      "|subkingdom                         |102474744 |\n",
      "|infrakingdom                       |106621708 |\n",
      "|phylum                             |4287230   |\n",
      "|phylum_division                    |119568135 |\n",
      "|subphylum_subdivision              |119568135 |\n",
      "|subphylum                          |35229533  |\n",
      "|infraphylum                        |54634994  |\n",
      "|parvphylum                         |82480115  |\n",
      "|gigaclass                          |85457327  |\n",
      "|megaclass                          |98691328  |\n",
      "|superclass                         |55145962  |\n",
      "|class                              |6165293   |\n",
      "|subclass                           |50386219  |\n",
      "|infraclass                         |107518756 |\n",
      "|subterclass                        |117686184 |\n",
      "|superorder                         |99045632  |\n",
      "|order                              |16693977  |\n",
      "|suborder                           |98534774  |\n",
      "|infraorder                         |109778909 |\n",
      "|parvorder                          |118657734 |\n",
      "|superfamily                        |104891611 |\n",
      "|family                             |21041270  |\n",
      "|subfamily                          |100520146 |\n",
      "|supertribe                         |119568127 |\n",
      "|tribe                              |118051109 |\n",
      "|subtribe                           |119563459 |\n",
      "|genus                              |25925348  |\n",
      "|subgenus                           |118875543 |\n",
      "|section                            |118585480 |\n",
      "|subsection                         |118601832 |\n",
      "|series                             |119568135 |\n",
      "|species                            |36969785  |\n",
      "|subspecies                         |119052642 |\n",
      "|natio                              |119568135 |\n",
      "|variety                            |119477489 |\n",
      "|subvariety                         |119568133 |\n",
      "|forma                              |119499767 |\n",
      "|subforma                           |119568135 |\n",
      "|superdomainid                      |0         |\n",
      "|domainid                           |119568135 |\n",
      "|kingdomid                          |104529    |\n",
      "|subkingdomid                       |102474744 |\n",
      "|infrakingdomid                     |106621708 |\n",
      "|phylumid                           |4287230   |\n",
      "|phylum_divisionid                  |119568135 |\n",
      "|subphylum_subdivisionid            |119568135 |\n",
      "|subphylumid                        |35229533  |\n",
      "|infraphylumid                      |54634994  |\n",
      "|parvphylumid                       |82480115  |\n",
      "|gigaclassid                        |85457327  |\n",
      "|megaclassid                        |98691328  |\n",
      "|superclassid                       |55145962  |\n",
      "|classid                            |6165293   |\n",
      "|subclassid                         |50386219  |\n",
      "|infraclassid                       |107518756 |\n",
      "|subterclassid                      |117686184 |\n",
      "|superorderid                       |99045632  |\n",
      "|orderid                            |16693977  |\n",
      "|suborderid                         |98534774  |\n",
      "|infraorderid                       |109778909 |\n",
      "|parvorderid                        |118657734 |\n",
      "|superfamilyid                      |104891611 |\n",
      "|familyid                           |21041270  |\n",
      "|subfamilyid                        |100520146 |\n",
      "|supertribeid                       |119568127 |\n",
      "|tribeid                            |118051109 |\n",
      "|subtribeid                         |119563459 |\n",
      "|genusid                            |25925348  |\n",
      "|subgenusid                         |118875543 |\n",
      "|sectionid                          |118585480 |\n",
      "|subsectionid                       |118601832 |\n",
      "|seriesid                           |119568135 |\n",
      "|speciesid                          |36969785  |\n",
      "|subspeciesid                       |119052642 |\n",
      "|natioid                            |119568135 |\n",
      "|varietyid                          |119477489 |\n",
      "|subvarietyid                       |119568133 |\n",
      "|formaid                            |119499767 |\n",
      "|subformaid                         |119568135 |\n",
      "|type                               |102121702 |\n",
      "|modified                           |37153022  |\n",
      "|language                           |91646494  |\n",
      "|license                            |86778431  |\n",
      "|rightsHolder                       |98224697  |\n",
      "|accessRights                       |116536906 |\n",
      "|bibliographicCitation              |81044063  |\n",
      "|references                         |112662906 |\n",
      "|institutionID                      |103214434 |\n",
      "|collectionID                       |116987131 |\n",
      "|datasetID                          |60439332  |\n",
      "|institutionCode                    |31777784  |\n",
      "|collectionCode                     |30616926  |\n",
      "|datasetName                        |70635652  |\n",
      "|ownerInstitutionCode               |109247740 |\n",
      "|basisOfRecord                      |91        |\n",
      "|informationWithheld                |114856047 |\n",
      "|dataGeneralizations                |114033082 |\n",
      "|dynamicProperties                  |108200052 |\n",
      "|materialSampleID                   |100317983 |\n",
      "|occurrenceID                       |9941646   |\n",
      "|catalogNumber                      |34314326  |\n",
      "|occurrenceRemarks                  |92330584  |\n",
      "|recordNumber                       |111703995 |\n",
      "|recordedBy                         |75351399  |\n",
      "|recordedByID                       |119535372 |\n",
      "|individualCount                    |88998561  |\n",
      "|organismQuantity                   |90254605  |\n",
      "|organismQuantityType               |88886949  |\n",
      "|sex                                |98478130  |\n",
      "|lifeStage                          |109940624 |\n",
      "|reproductiveCondition              |119316695 |\n",
      "|behavior                           |119143850 |\n",
      "|establishmentMeans                 |119375398 |\n",
      "|occurrenceStatus                   |15815581  |\n",
      "|preparations                       |114566616 |\n",
      "|disposition                        |119427085 |\n",
      "|otherCatalogNumbers                |119089465 |\n",
      "|associatedMedia                    |118915290 |\n",
      "|associatedReferences               |113262845 |\n",
      "|associatedSequences                |118416057 |\n",
      "|associatedTaxa                     |119545576 |\n",
      "|organismID                         |108923909 |\n",
      "|organismName                       |114516086 |\n",
      "|organismScope                      |117205819 |\n",
      "|associatedOccurrences              |119515372 |\n",
      "|associatedOrganisms                |119568118 |\n",
      "|previousIdentifications            |119082524 |\n",
      "|organismRemarks                    |118190452 |\n",
      "|eventID                            |52016182  |\n",
      "|parentEventID                      |95931656  |\n",
      "|samplingProtocol                   |70469812  |\n",
      "|sampleSizeValue                    |97410402  |\n",
      "|sampleSizeUnit                     |97439049  |\n",
      "|samplingEffort                     |108241964 |\n",
      "|eventDate                          |4193985   |\n",
      "|eventTime                          |90944588  |\n",
      "|startDayOfYear                     |115136802 |\n",
      "|endDayOfYear                       |116554885 |\n",
      "|year                               |62856732  |\n",
      "|month                              |68911608  |\n",
      "|day                                |70084468  |\n",
      "|verbatimEventDate                  |112199499 |\n",
      "|habitat                            |115435654 |\n",
      "|fieldNumber                        |103488565 |\n",
      "|fieldNotes                         |118980033 |\n",
      "|eventRemarks                       |95187773  |\n",
      "|locationID                         |112075568 |\n",
      "|higherGeographyID                  |119553881 |\n",
      "|higherGeography                    |118337402 |\n",
      "|continent                          |114929652 |\n",
      "|waterBody                          |98196150  |\n",
      "|islandGroup                        |118145549 |\n",
      "|island                             |117998444 |\n",
      "|country                            |61527799  |\n",
      "|countryCode                        |113419574 |\n",
      "|stateProvince                      |108980781 |\n",
      "|county                             |118314865 |\n",
      "|municipality                       |117496767 |\n",
      "|locality                           |63599317  |\n",
      "|verbatimLocality                   |117735016 |\n",
      "|verbatimElevation                  |119557305 |\n",
      "|minimumElevationInMeters           |117330093 |\n",
      "|maximumElevationInMeters           |117242383 |\n",
      "|verbatimDepth                      |117115220 |\n",
      "|minimumDistanceAboveSurfaceInMeters|115383589 |\n",
      "|maximumDistanceAboveSurfaceInMeters|119084706 |\n",
      "|locationAccordingTo                |117514638 |\n",
      "|locationRemarks                    |110266723 |\n",
      "|verbatimCoordinates                |118863732 |\n",
      "|verbatimLatitude                   |118837085 |\n",
      "|verbatimLongitude                  |118844089 |\n",
      "|verbatimCoordinateSystem           |119166314 |\n",
      "|verbatimSRS                        |119291082 |\n",
      "|geodeticDatum                      |86525419  |\n",
      "|coordinatePrecision                |108433974 |\n",
      "|pointRadiusSpatialFit              |119568024 |\n",
      "|footprintWKT                       |67929148  |\n",
      "|footprintSRS                       |98918716  |\n",
      "|footprintSpatialFit                |119567267 |\n",
      "|georeferencedBy                    |117394291 |\n",
      "|georeferencedDate                  |114126990 |\n",
      "|georeferenceProtocol               |113948059 |\n",
      "|georeferenceSources                |119321820 |\n",
      "|georeferenceVerificationStatus     |119278870 |\n",
      "|georeferenceRemarks                |116940053 |\n",
      "|geologicalContextID                |119568135 |\n",
      "|earliestEonOrLowestEonothem        |119568135 |\n",
      "|latestEonOrHighestEonothem         |119568135 |\n",
      "|earliestEraOrLowestErathem         |119568135 |\n",
      "|latestEraOrHighestErathem          |119568135 |\n",
      "|earliestPeriodOrLowestSystem       |119568134 |\n",
      "|latestPeriodOrHighestSystem        |119568135 |\n",
      "|earliestEpochOrLowestSeries        |119568105 |\n",
      "|latestEpochOrHighestSeries         |119568135 |\n",
      "|earliestAgeOrLowestStage           |119568134 |\n",
      "|latestAgeOrHighestStage            |119568135 |\n",
      "|lowestBiostratigraphicZone         |119567909 |\n",
      "|highestBiostratigraphicZone        |119568135 |\n",
      "|lithostratigraphicTerms            |119568135 |\n",
      "|group                              |119568135 |\n",
      "|formation                          |119568135 |\n",
      "|member                             |119568135 |\n",
      "|bed                                |119568135 |\n",
      "|identificationID                   |119334789 |\n",
      "|identifiedBy                       |108868303 |\n",
      "|identifiedByID                     |119530503 |\n",
      "|dateIdentified                     |110841288 |\n",
      "|identificationReferences           |100380573 |\n",
      "|identificationRemarks              |95017828  |\n",
      "|identificationQualifier            |118144469 |\n",
      "|identificationVerificationStatus   |118999716 |\n",
      "|typeStatus                         |119235777 |\n",
      "|taxonID                            |116174990 |\n",
      "|scientificNameID                   |6754460   |\n",
      "|acceptedNameUsageID                |119469337 |\n",
      "|parentNameUsageID                  |119479412 |\n",
      "|originalNameUsageID                |119568130 |\n",
      "|nameAccordingToID                  |119165078 |\n",
      "|namePublishedInID                  |119563786 |\n",
      "|taxonConceptID                     |117711352 |\n",
      "|acceptedNameUsage                  |119384599 |\n",
      "|parentNameUsage                    |119567967 |\n",
      "|originalNameUsage                  |119519787 |\n",
      "|nameAccordingTo                    |117483419 |\n",
      "|namePublishedIn                    |119553586 |\n",
      "|namePublishedInYear                |119567238 |\n",
      "|higherClassification               |119016687 |\n",
      "|specificEpithet                    |86789509  |\n",
      "|infraspecificEpithet               |119442086 |\n",
      "|verbatimTaxonRank                  |119521645 |\n",
      "|scientificNameAuthorship           |81092452  |\n",
      "|vernacularName                     |91181630  |\n",
      "|nomenclaturalCode                  |114041965 |\n",
      "|taxonomicStatus                    |111628378 |\n",
      "|nomenclaturalStatus                |119567876 |\n",
      "|taxonRemarks                       |114047362 |\n",
      "|geometry                           |0         |\n",
      "+-----------------------------------+----------+\n",
      "\n"
     ]
    }
   ],
   "source": [
    "# Null Counts\n",
    "null_counts = df.select([f.sum(f.col(column).isNull().cast(\"int\")).alias(column) for column in df.columns])\n",
    "null_counts_dict = null_counts.collect()[0].asDict()\n",
    "null_counts_df = sc.createDataFrame(null_counts_dict.items(), [\"column_name\", \"null_count\"])\n",
    "num_rows = null_counts_df.count()\n",
    "null_counts_df.show(num_rows, truncate=False)"
   ]
  },
  {
   "cell_type": "markdown",
   "id": "ac73731b-a114-417e-b490-8f58119913dc",
   "metadata": {},
   "source": [
    "### Data Preparation"
   ]
  },
  {
   "cell_type": "markdown",
   "id": "524ebe08-de51-4bc3-aa1e-881299ffe909",
   "metadata": {},
   "source": [
    "#### OBIS Aggregation"
   ]
  },
  {
   "cell_type": "code",
   "execution_count": 28,
   "id": "0db95dc8-12d1-4ca3-bde0-9003b21aad6f",
   "metadata": {},
   "outputs": [],
   "source": [
    "# Selecting important columns\n",
    "df_trim_col = df.select(\n",
    "    'id',\n",
    "    'decimalLongitude',\n",
    "    'decimalLatitude',\n",
    "    'date_year',\n",
    "    'scientificName',\n",
    "    'coordinateUncertaintyInMeters',\n",
    "    'shoredistance',\n",
    "    'bathymetry',\n",
    "    'sst',\n",
    "    'sss',\n",
    "    'marine',\n",
    "    'brackish',\n",
    "    'freshwater',\n",
    "    'terrestrial',\n",
    "    'taxonRank',\n",
    "    'redlist_category',\n",
    "    'superdomain',\n",
    "    'domain',\n",
    "    'kingdom',\n",
    "    'subkingdom',\n",
    "    'infrakingdom',\n",
    "    'phylum',\n",
    "    'phylum_division',\n",
    "    'subphylum_subdivision',\n",
    "    'subphylum',\n",
    "    'infraphylum',\n",
    "    'parvphylum',\n",
    "    'gigaclass',\n",
    "    'megaclass',\n",
    "    'superclass',\n",
    "    'class',\n",
    "    'subclass',\n",
    "    'infraclass',\n",
    "    'subterclass',\n",
    "    'superorder',\n",
    "    'order',\n",
    "    'suborder',\n",
    "    'infraorder',\n",
    "    'parvorder',\n",
    "    'superfamily',\n",
    "    'family',\n",
    "    'subfamily',\n",
    "    'supertribe',\n",
    "    'tribe',\n",
    "    'subtribe',\n",
    "    'genus',\n",
    "    'subgenus',\n",
    "    'section',\n",
    "    'subsection',\n",
    "    'series',\n",
    "    'species',\n",
    "    'subspecies',\n",
    "    'natio',\n",
    "    'variety',\n",
    "    'subvariety',\n",
    "    'forma',\n",
    "    'subforma',\n",
    "    'individualCount',\n",
    "    'eventDate'\n",
    ")"
   ]
  },
  {
   "cell_type": "code",
   "execution_count": 29,
   "id": "34b7c9ea-01bb-475b-8afc-14da6724bad8",
   "metadata": {},
   "outputs": [],
   "source": [
    "# Creating a date parser\n",
    "from dateutil import parser\n",
    "\n",
    "def extract_year(date_str):\n",
    "    try:\n",
    "        parsed_date = parser.parse(date_str, fuzzy=True)\n",
    "        return parsed_date.year\n",
    "    except:\n",
    "        return None\n",
    "\n",
    "extract_year_udf = f.udf(extract_year, IntegerType())"
   ]
  },
  {
   "cell_type": "code",
   "execution_count": 30,
   "id": "7d7e3185-9ce9-46e7-99ce-bfe43971b255",
   "metadata": {},
   "outputs": [],
   "source": [
    "# Adds missing years to date_year, drops eventDate, and filters out null date_years\n",
    "df_year_fix = df_trim_col.withColumn(\n",
    "    \"date_year\",\n",
    "    f.when(f.col(\"date_year\").isNull(), extract_year_udf(f.col(\"eventDate\")))\n",
    "    .otherwise(f.col(\"date_year\"))\n",
    ").drop(\"eventDate\").filter(f.col(\"date_year\").isNotNull())"
   ]
  },
  {
   "cell_type": "code",
   "execution_count": 31,
   "id": "1593588b-864e-4fed-ba4e-f040a3e532d7",
   "metadata": {},
   "outputs": [],
   "source": [
    "# Filters out scientific names that are null and handles an old name\n",
    "df_sci_name_fix = df_year_fix.filter(f.col(\"scientificName\").isNotNull()).withColumn(\"scientificName\", f.regexp_replace('scientificName', 'Taenioides jacksoni', 'Trypauchenopsis intermedia'))"
   ]
  },
  {
   "cell_type": "code",
   "execution_count": 32,
   "id": "9a990954-0092-4acf-962c-b59ec3a1976d",
   "metadata": {},
   "outputs": [],
   "source": [
    "# Filters out overly uncertain coordinates\n",
    "df_uncert_fix = df_sci_name_fix.filter((f.col(\"coordinateUncertaintyInMeters\") <= 1000) | (f.col(\"coordinateUncertaintyInMeters\").isNull()))\n",
    "df_uncert_fix = df_uncert_fix.withColumn(\n",
    "    \"coordinateUncertaintyInMeters\",\n",
    "    f.when(f.col(\"coordinateUncertaintyInMeters\").isNull(), f.col(\"coordinateUncertaintyInMeters\") == 0)).drop(\"coordinateUncertaintyInMeters\")"
   ]
  },
  {
   "cell_type": "code",
   "execution_count": 33,
   "id": "1d61afc2-cc54-4db2-b1d4-fd8e9e957cc4",
   "metadata": {},
   "outputs": [],
   "source": [
    "# Filters out null environmental data\n",
    "df_env_fix = df_uncert_fix.filter(f.col(\"sst\").isNotNull()).filter(f.col(\"sss\").isNotNull()).filter(f.col(\"bathymetry\").isNotNull())"
   ]
  },
  {
   "cell_type": "code",
   "execution_count": 34,
   "id": "2f2ee073-974f-4af8-b2ae-fb0d0aa4f3a8",
   "metadata": {},
   "outputs": [],
   "source": [
    "# Transforms counts into integers\n",
    "df_indiv_cnt_fix = df_env_fix.withColumn('individualCount', \n",
    "                                         f.when(f.col('individualCount').isNotNull(), \n",
    "                                         f.col('individualCount').cast('int'))\n",
    "                                         .otherwise(None)\n",
    "                                        )"
   ]
  },
  {
   "cell_type": "code",
   "execution_count": 35,
   "id": "4ece6c46-e36e-4578-bc56-2f1a14a889dc",
   "metadata": {},
   "outputs": [],
   "source": [
    "# Counts obtained from other columns\n",
    "df_count_fix = df_indiv_cnt_fix.withColumn(\n",
    "    'count',\n",
    "    f.when((f.col('individualCount').isNull()) | (f.col('individualCount') <= 1), 1)\n",
    "    .when((f.col('individualCount') > 1), f.col('individualCount'))\n",
    "    .otherwise(None)\n",
    ").drop('individualCount')"
   ]
  },
  {
   "cell_type": "code",
   "execution_count": 36,
   "id": "55d0c917-00ce-425b-af92-9918b0d6b49d",
   "metadata": {},
   "outputs": [],
   "source": [
    "# Generates a aggregated table based on scientificName and date_year\n",
    "aggregated_df = df_count_fix.groupBy(\"scientificName\", \"date_year\").agg(\n",
    "    f.min(\"decimalLongitude\").alias(\"min_decimalLongitude\"),\n",
    "    f.max(\"decimalLongitude\").alias(\"max_decimalLongitude\"),\n",
    "    f.min(\"decimalLatitude\").alias(\"min_decimalLatitude\"),\n",
    "    f.max(\"decimalLatitude\").alias(\"max_decimalLatitude\"),\n",
    "    f.avg(\"shoredistance\").alias(\"avg_shoredistance\"),\n",
    "    f.avg(\"bathymetry\").alias(\"avg_bathymetry\"),\n",
    "    f.avg(\"sst\").alias(\"avg_sst\"),\n",
    "    f.avg(\"sss\").alias(\"avg_sss\"),\n",
    "    f.sum(\"count\").alias(\"sum_count\")\n",
    ").cache()"
   ]
  },
  {
   "cell_type": "code",
   "execution_count": 37,
   "id": "62f6f856-d42d-4c14-b92d-8b09a02156f7",
   "metadata": {},
   "outputs": [],
   "source": [
    "# Log trandsforms the counts to normalize them\n",
    "aggregated_df_log_trans= aggregated_df.withColumn(\"log_sum_count\", f.log1p(\"sum_count\"))"
   ]
  },
  {
   "cell_type": "code",
   "execution_count": 38,
   "id": "3fb88f4b-419f-4a93-9114-26b3c2b0b326",
   "metadata": {},
   "outputs": [],
   "source": [
    "# Creating a table to add back in the lost cladogram data\n",
    "df_clado_unique = df_year_fix.select(\n",
    "    'date_year',\n",
    "    'scientificName',\n",
    "    'marine',\n",
    "    'brackish',\n",
    "    'freshwater',\n",
    "    'terrestrial',\n",
    "    'superdomain',\n",
    "    'domain',\n",
    "    'kingdom',\n",
    "    'subkingdom',\n",
    "    'infrakingdom',\n",
    "    'phylum',\n",
    "    'phylum_division',\n",
    "    'subphylum_subdivision',\n",
    "    'subphylum',\n",
    "    'infraphylum',\n",
    "    'parvphylum',\n",
    "    'gigaclass',\n",
    "    'megaclass',\n",
    "    'superclass',\n",
    "    'class',\n",
    "    'subclass',\n",
    "    'infraclass',\n",
    "    'subterclass',\n",
    "    'superorder',\n",
    "    'order',\n",
    "    'suborder',\n",
    "    'infraorder',\n",
    "    'parvorder',\n",
    "    'superfamily',\n",
    "    'family',\n",
    "    'subfamily',\n",
    "    'supertribe',\n",
    "    'tribe',\n",
    "    'subtribe',\n",
    "    'genus',\n",
    "    'subgenus',\n",
    "    'section',\n",
    "    'subsection',\n",
    "    'series',\n",
    "    'species',\n",
    "    'subspecies',\n",
    "    'natio',\n",
    "    'variety',\n",
    "    'subvariety',\n",
    "    'forma',\n",
    "    'subforma',\n",
    ").dropDuplicates(['scientificName', 'date_year'])"
   ]
  },
  {
   "cell_type": "code",
   "execution_count": 39,
   "id": "24d34a18-f313-4af4-968e-d21e860b405f",
   "metadata": {},
   "outputs": [],
   "source": [
    "# Creats a merged table that we then sort\n",
    "df_merge_clean = aggregated_df_log_trans.join(df_clado_unique, on=[\"scientificName\", \"date_year\"], how=\"left\")"
   ]
  },
  {
   "cell_type": "markdown",
   "id": "4273bcd8-1b1a-4f49-b858-6baab27d2940",
   "metadata": {},
   "source": [
    "#### Assesment Table Cleaning"
   ]
  },
  {
   "cell_type": "code",
   "execution_count": 40,
   "id": "f0d48cd1-38fd-4a09-856c-f9dfffd67240",
   "metadata": {},
   "outputs": [],
   "source": [
    "# Getting years from assesment table\n",
    "df_assessments = df_iucn.withColumn(\"assessmentYear\",extract_year_udf(f.col(\"assessmentDate\")))"
   ]
  },
  {
   "cell_type": "code",
   "execution_count": 41,
   "id": "53712c9c-9e04-421b-b8e8-c89b6b1b09c5",
   "metadata": {},
   "outputs": [],
   "source": [
    "# Drop assessmentDate \n",
    "df_assessments = df_assessments.drop('assessmentDate')"
   ]
  },
  {
   "cell_type": "code",
   "execution_count": 42,
   "id": "1122122d-55f4-4d74-a4d0-9242a5271c62",
   "metadata": {},
   "outputs": [],
   "source": [
    "# Drop if null is on redlist\n",
    "df_assessments = df_assessments.filter(f.col('redlistCategory').isNotNull())"
   ]
  },
  {
   "cell_type": "code",
   "execution_count": 43,
   "id": "53e13dfd-e6a3-438b-931c-e5f9432fce90",
   "metadata": {},
   "outputs": [],
   "source": [
    "# Drop data deficient (DD) rows\n",
    "df_assessments = df_assessments.filter(f.col('redlistCategory') != \"Data Deficient\")"
   ]
  },
  {
   "cell_type": "code",
   "execution_count": 44,
   "id": "b624341c-4a1e-4eaf-a3ea-fb80a356bac9",
   "metadata": {},
   "outputs": [],
   "source": [
    "# Create safe column: NULL IS NULL, safe = least concerned, near threatened , Lower Risk/conser...,Lower Risk/near t...\n",
    "df_assessments = df_assessments.withColumn(\"safe?\",f.when((df_assessments.redlistCategory == \"Endangered\") | (df_assessments.redlistCategory == \"Extinct\")| (df_assessments.redlistCategory == \"Vulnerable\") | (df_assessments.redlistCategory == \"Critically Endangered\") |(df_assessments.redlistCategory == \"Extinct in the wild\"),False).otherwise(True))"
   ]
  },
  {
   "cell_type": "code",
   "execution_count": 45,
   "id": "d4f0d70d-a0d3-498b-a36c-bd753b605a5c",
   "metadata": {},
   "outputs": [],
   "source": [
    "# Remove redlist column \n",
    "df_assessments = df_assessments.drop(\"redlistCategory\")"
   ]
  },
  {
   "cell_type": "markdown",
   "id": "ba3d898d-4223-4147-bc09-7c0125f9a10e",
   "metadata": {},
   "source": [
    "#### Feature expansion to include temporal data"
   ]
  },
  {
   "cell_type": "code",
   "execution_count": 46,
   "id": "e5d90779-2436-4be8-a1f0-ca56839d4c5f",
   "metadata": {},
   "outputs": [],
   "source": [
    "# Merges IUCN list with cleaned OBIS dataset\n",
    "df_merge_asses = df_merge_clean.join(df_assessments, on=[\"scientificName\"], how=\"left\")"
   ]
  },
  {
   "cell_type": "code",
   "execution_count": 47,
   "id": "2303eed9-8271-48b3-896d-e8f676bc0c71",
   "metadata": {},
   "outputs": [],
   "source": [
    "# Removes rows without a \"safe?\" category\n",
    "df_merge_safe = df_merge_asses.filter(f.col(\"safe?\").isNotNull())"
   ]
  },
  {
   "cell_type": "code",
   "execution_count": 48,
   "id": "c05c4ffb-e8ed-49d0-91a0-7018ee229fa5",
   "metadata": {},
   "outputs": [],
   "source": [
    "# Filtered out rows who's sightings are older than the assesment year\n",
    "df_merge_years = df_merge_safe.filter(f.col(\"date_year\") >= f.col(\"assessmentYear\")).sort(\"scientificName\", \"date_year\").drop(\"assessmentYear\").cache()"
   ]
  },
  {
   "cell_type": "code",
   "execution_count": 49,
   "id": "37edb5b6-9257-487c-be95-d878904d9990",
   "metadata": {},
   "outputs": [],
   "source": [
    "# Setting window sizes\n",
    "windowSize = 2\n",
    "windowSpec = Window.partitionBy(\"scientificName\").orderBy(\"date_year\").rowsBetween(-windowSize, 0)\n",
    "lagWindowSpec = Window.partitionBy(\"scientificName\").orderBy(\"date_year\")"
   ]
  },
  {
   "cell_type": "code",
   "execution_count": 50,
   "id": "4c84d9f8-3be6-4331-81cf-dbfb08291954",
   "metadata": {},
   "outputs": [],
   "source": [
    "# Feature expansion of avg_sst, avg_sss, sum_count, log_sum_count\n",
    "# Moving Average, Rolling Standard Deviation, Lagged Features, Year-on-Year Change\n",
    "\n",
    "df_merge_years = df_merge_years.withColumn(\"moving_avg_sst\", f.avg(\"avg_sst\").over(windowSpec))\n",
    "df_merge_years = df_merge_years.withColumn(\"rolling_stddev_sst\", f.stddev(\"avg_sst\").over(windowSpec))\n",
    "df_merge_years = df_merge_years.withColumn(\"lag1_avg_sst\", f.lag(\"avg_sst\", 1).over(lagWindowSpec))\n",
    "df_merge_years = df_merge_years.withColumn(\"yoy_change_avg_sst\", f.col(\"avg_sst\") - f.col(\"lag1_avg_sst\"))\n",
    "df_merge_years = df_merge_years.drop(\"lag1_avg_sst\")\n",
    "\n",
    "df_merge_years = df_merge_years.withColumn(\"moving_avg_sss\", f.avg(\"avg_sss\").over(windowSpec))\n",
    "df_merge_years = df_merge_years.withColumn(\"rolling_stddev_sss\", f.stddev(\"avg_sss\").over(windowSpec))\n",
    "df_merge_years = df_merge_years.withColumn(\"lag1_avg_sss\", f.lag(\"avg_sss\", 1).over(lagWindowSpec))\n",
    "df_merge_years = df_merge_years.withColumn(\"yoy_change_avg_sss\", f.col(\"avg_sss\") - f.col(\"lag1_avg_sss\"))\n",
    "df_merge_years = df_merge_years.drop(\"lag1_avg_sss\")\n",
    "\n",
    "df_merge_years = df_merge_years.withColumn(\"moving_avg_sum_cnt\", f.avg(\"sum_count\").over(windowSpec))\n",
    "df_merge_years = df_merge_years.withColumn(\"rolling_stddev_sum_cnt\", f.stddev(\"sum_count\").over(windowSpec))\n",
    "df_merge_years = df_merge_years.withColumn(\"lag1_sum_cnt\", f.lag(\"sum_count\", 1).over(lagWindowSpec))\n",
    "df_merge_years = df_merge_years.withColumn(\"yoy_change_sum_cnt\", f.col(\"sum_count\") - f.col(\"lag1_sum_cnt\"))\n",
    "df_merge_years = df_merge_years.drop(\"lag1_sum_cnt\")\n",
    "\n",
    "df_merge_years = df_merge_years.withColumn(\"moving_avg_log_cnt\", f.avg(\"log_sum_count\").over(windowSpec))\n",
    "df_merge_years = df_merge_years.withColumn(\"rolling_stddev_log_cnt\", f.stddev(\"log_sum_count\").over(windowSpec))\n",
    "df_merge_years = df_merge_years.withColumn(\"lag1_log_cnt\", f.lag(\"log_sum_count\", 1).over(lagWindowSpec))\n",
    "df_merge_years = df_merge_years.withColumn(\"yoy_change_log_cnt\", f.col(\"log_sum_count\") - f.col(\"lag1_log_cnt\"))\n",
    "df_merge_years = df_merge_years.drop(\"lag1_log_cnt\")"
   ]
  },
  {
   "cell_type": "code",
   "execution_count": 51,
   "id": "814080ee-4ad6-4b23-bc06-937c41fa2c54",
   "metadata": {},
   "outputs": [],
   "source": [
    "# Cleans up location data\n",
    "temp = df_merge_years.withColumn(\"difference_long\", f.col(\"max_decimalLongitude\")-f.col(\"min_decimalLongitude\"))\n",
    "temp1 = temp.withColumn(\"difference_lat\", f.col(\"max_decimalLatitude\")-f.col(\"min_decimalLatitude\"))\n",
    "\n",
    "temp2 = temp1.withColumn(\"yoy_dif_lat\", f.col('difference_lat')-f.lag(f.col('difference_lat')).over(lagWindowSpec))\n",
    "temp3 = temp2.withColumn(\"yoy_dif_long\", f.col('difference_long')-f.lag(f.col('difference_long')).over(lagWindowSpec))\n",
    "\n",
    "temp4 = temp3.withColumn(\"yoy_dif_shoredistance\", f.col('avg_shoredistance')-f.lag(f.col('avg_shoredistance')).over(lagWindowSpec))\n",
    "df_temporal = temp4.withColumn(\"yoy_dif_bath\", f.col('avg_bathymetry')-f.lag(f.col('avg_bathymetry')).over(lagWindowSpec))\n",
    "\n",
    "df_temporal = df_temporal.drop(\n",
    "    'min_decimalLongitude',\n",
    "    'max_decimalLongitude',\n",
    "    'min_decimalLatitude',\n",
    "    'max_decimalLatitude',\n",
    ")"
   ]
  },
  {
   "cell_type": "markdown",
   "id": "583f5fc9-4d25-41a7-952b-9389f8c9dc63",
   "metadata": {},
   "source": [
    "### Machine Learning - Model 1"
   ]
  },
  {
   "cell_type": "markdown",
   "id": "eb1e8719-527a-4efc-906a-f7421dc66a4f",
   "metadata": {},
   "source": [
    "#### Random Forest"
   ]
  },
  {
   "cell_type": "code",
   "execution_count": 52,
   "id": "54dfa823-2c90-4c2e-9b27-4af4b50eb73a",
   "metadata": {},
   "outputs": [],
   "source": [
    "# Cleans features of data that can't be ingested into RF\n",
    "df_temporal_rf = df_temporal.withColumn(\"marine\", f.col(\"marine\").cast(\"int\")) \\\n",
    "       .withColumn(\"brackish\", f.col(\"brackish\").cast(\"int\")) \\\n",
    "       .withColumn(\"terrestrial\", f.col(\"terrestrial\").cast(\"int\")) \\\n",
    "       .withColumn(\"freshwater\", f.col(\"freshwater\").cast(\"int\")) \\\n",
    "       .withColumn(\"safe?\", f.col(\"safe?\").cast(\"int\")).fillna(0)"
   ]
  },
  {
   "cell_type": "code",
   "execution_count": 53,
   "id": "46ba35fa-01a6-430c-b274-922bd7155c07",
   "metadata": {},
   "outputs": [],
   "source": [
    "# Splits up the data\n",
    "train_data, validation_data, test_data = df_temporal_rf.randomSplit([0.6, 0.2, 0.2], seed=42)"
   ]
  },
  {
   "cell_type": "code",
   "execution_count": 54,
   "id": "ba3df837-152b-4a1f-ab2c-f4c0d1b0aca4",
   "metadata": {},
   "outputs": [],
   "source": [
    "# Selecting which features we want and sets up the vector assembler\n",
    "features = [\n",
    " 'avg_shoredistance',\n",
    " 'avg_bathymetry',\n",
    " 'avg_sst',\n",
    " 'avg_sss',\n",
    " 'sum_count',\n",
    " 'log_sum_count',\n",
    " 'marine',\n",
    " 'brackish',\n",
    " 'freshwater',\n",
    " 'terrestrial',\n",
    " 'moving_avg_sst',\n",
    " 'rolling_stddev_sst',\n",
    " 'yoy_change_avg_sst',\n",
    " 'moving_avg_sss',\n",
    " 'rolling_stddev_sss',\n",
    " 'yoy_change_avg_sss',\n",
    " 'moving_avg_sum_cnt',\n",
    " 'rolling_stddev_sum_cnt',\n",
    " 'yoy_change_sum_cnt',\n",
    " 'moving_avg_log_cnt',\n",
    " 'rolling_stddev_log_cnt',\n",
    " 'yoy_change_log_cnt',\n",
    " 'difference_long',\n",
    " 'difference_lat',\n",
    " 'yoy_dif_lat',\n",
    " 'yoy_dif_long',\n",
    " 'yoy_dif_shoredistance',\n",
    " 'yoy_dif_bath']\n",
    "assembler = VectorAssembler(inputCols=features, outputCol=\"features\")"
   ]
  },
  {
   "cell_type": "code",
   "execution_count": 55,
   "id": "cd828b46-5225-4769-9917-c8149798160e",
   "metadata": {},
   "outputs": [],
   "source": [
    "# Sets up the random forest classifier\n",
    "rf = RandomForestClassifier(labelCol=\"safe?\",\n",
    "                            featuresCol=\"features\",\n",
    "                            seed=42)"
   ]
  },
  {
   "cell_type": "code",
   "execution_count": 56,
   "id": "92600891-f293-47dc-b1ef-0803e406d09a",
   "metadata": {},
   "outputs": [],
   "source": [
    "# Sets up the parameter grid for grid search\n",
    "paramGrid = ParamGridBuilder()\\\n",
    "    .addGrid(rf.numTrees, [10, 20, 30])\\\n",
    "    .addGrid(rf.maxDepth, [5, 10, 15])\\\n",
    "    .build()"
   ]
  },
  {
   "cell_type": "code",
   "execution_count": 57,
   "id": "bd264a0e-060b-4617-b516-73a82c5966d0",
   "metadata": {},
   "outputs": [],
   "source": [
    "# Sets up the evaluator\n",
    "evaluator = MulticlassClassificationEvaluator(labelCol=\"safe?\", \n",
    "                                              predictionCol=\"prediction\", \n",
    "                                              metricName=\"accuracy\")"
   ]
  },
  {
   "cell_type": "code",
   "execution_count": 58,
   "id": "33558aa3-928f-4537-9369-4617cb1e3a42",
   "metadata": {},
   "outputs": [],
   "source": [
    "# Uses previous parameters to set up cross validation model\n",
    "crossval = CrossValidator(estimator=rf,\n",
    "                          estimatorParamMaps=paramGrid,\n",
    "                          evaluator=evaluator,\n",
    "                          numFolds=3)"
   ]
  },
  {
   "cell_type": "code",
   "execution_count": 59,
   "id": "6a1c30be-b836-4c06-a07b-4e24824b36d9",
   "metadata": {},
   "outputs": [],
   "source": [
    "# Pipelining model building and creation\n",
    "pipeline = Pipeline(stages=[assembler, crossval])"
   ]
  },
  {
   "cell_type": "code",
   "execution_count": 60,
   "id": "b78cbdbf-d509-4ff7-89f8-ed039d7cadb8",
   "metadata": {},
   "outputs": [],
   "source": [
    "# Fits the model\n",
    "cvModel = pipeline.fit(train_data)"
   ]
  },
  {
   "cell_type": "markdown",
   "id": "3e88fcf7-cec3-4a5c-b9e9-4b0890d6dd22",
   "metadata": {},
   "source": [
    "#### Results"
   ]
  },
  {
   "cell_type": "code",
   "execution_count": 61,
   "id": "2d29e20b-7352-404c-9828-777812af7a8d",
   "metadata": {},
   "outputs": [
    {
     "name": "stdout",
     "output_type": "stream",
     "text": [
      "Train Accuracy: 0.9264778325123153\n"
     ]
    }
   ],
   "source": [
    "# Checks training error\n",
    "train_predictions = cvModel.transform(train_data)\n",
    "accuracy = evaluator.evaluate(train_predictions)\n",
    "print(f\"Train Accuracy: {accuracy}\")"
   ]
  },
  {
   "cell_type": "code",
   "execution_count": 62,
   "id": "9c89fd6e-b70f-4560-9c0b-0cd8763ef036",
   "metadata": {},
   "outputs": [
    {
     "data": {
      "text/plain": [
       "Row(scientificName='Abdopus aculeatus', safe?=1, prediction=1.0)"
      ]
     },
     "execution_count": 62,
     "metadata": {},
     "output_type": "execute_result"
    }
   ],
   "source": [
    "# Checks a ground truth example for our training model\n",
    "# safe? is our label\n",
    "train_predictions.select('scientificName','safe?', 'prediction').first()"
   ]
  },
  {
   "cell_type": "code",
   "execution_count": 63,
   "id": "1ffac557-e6c0-4b68-bed0-ca47990fb20a",
   "metadata": {},
   "outputs": [
    {
     "name": "stdout",
     "output_type": "stream",
     "text": [
      "Validation Accuracy: 0.9205199628597958\n"
     ]
    }
   ],
   "source": [
    "# Checks validation error\n",
    "validation_predictions = cvModel.transform(validation_data)\n",
    "accuracy = evaluator.evaluate(validation_predictions)\n",
    "print(f\"Validation Accuracy: {accuracy}\")"
   ]
  },
  {
   "cell_type": "code",
   "execution_count": 64,
   "id": "f0352b09-65c6-4cfe-a499-d232919f619c",
   "metadata": {},
   "outputs": [
    {
     "data": {
      "text/plain": [
       "Row(scientificName='Abdopus aculeatus', safe?=1, prediction=1.0)"
      ]
     },
     "execution_count": 64,
     "metadata": {},
     "output_type": "execute_result"
    }
   ],
   "source": [
    "# Checks a ground truth example for our validation model\n",
    "# safe? is our label\n",
    "validation_predictions.select('scientificName','safe?', 'prediction').first()"
   ]
  },
  {
   "cell_type": "code",
   "execution_count": 65,
   "id": "f18f5e76-2d85-40fd-8d89-9ab65935c81d",
   "metadata": {},
   "outputs": [
    {
     "name": "stdout",
     "output_type": "stream",
     "text": [
      "Test Accuracy: 0.9180359189912113\n"
     ]
    }
   ],
   "source": [
    "# Checks test error\n",
    "test_predictions = cvModel.transform(test_data)\n",
    "accuracy = evaluator.evaluate(test_predictions)\n",
    "print(f\"Test Accuracy: {accuracy}\")"
   ]
  },
  {
   "cell_type": "code",
   "execution_count": 66,
   "id": "f22bdad6-77cb-41e8-9201-798c7af575bc",
   "metadata": {},
   "outputs": [
    {
     "data": {
      "text/plain": [
       "Row(scientificName='Abdopus aculeatus', safe?=1, prediction=1.0)"
      ]
     },
     "execution_count": 66,
     "metadata": {},
     "output_type": "execute_result"
    }
   ],
   "source": [
    "# Checks a ground truth example for our test model\n",
    "# safe? is our label\n",
    "test_predictions.select('scientificName','safe?', 'prediction').first()"
   ]
  },
  {
   "cell_type": "code",
   "execution_count": 67,
   "id": "169a0145-a9bf-4d8d-a965-466903d1be09",
   "metadata": {},
   "outputs": [],
   "source": [
    "# Creates RDD from test predictions for making a confusion matrix\n",
    "predictionAndLabels = test_predictions.select(f.col(\"prediction\"), f.col(\"safe?\"))\n",
    "predictionAndLabelsRDD = predictionAndLabels.rdd.map(lambda x: (float(x[0]), float(x[1])))"
   ]
  },
  {
   "cell_type": "code",
   "execution_count": 68,
   "id": "4b62e069-80ce-4ad4-ad4f-722497b36500",
   "metadata": {},
   "outputs": [
    {
     "name": "stderr",
     "output_type": "stream",
     "text": [
      "/usr/local/spark/python/pyspark/sql/context.py:158: FutureWarning: Deprecated in 3.0.0. Use SparkSession.builder.getOrCreate() instead.\n",
      "  warnings.warn(\n"
     ]
    }
   ],
   "source": [
    "# Produces a confusion matrix pandas dataframe\n",
    "metrics = MulticlassMetrics(predictionAndLabelsRDD)\n",
    "confusionMatrix = metrics.confusionMatrix().toArray()\n",
    "confusion_df = pd.DataFrame(confusionMatrix, index=['Actual 0', 'Actual 1'], columns=['Predicted 0', 'Predicted 1'])"
   ]
  },
  {
   "cell_type": "code",
   "execution_count": 69,
   "id": "524f832d-7ff1-4421-9bca-fab53223d07b",
   "metadata": {},
   "outputs": [
    {
     "data": {
      "image/png": "[encoded data removed]",
      "text/plain": [
       "<Figure size 800x600 with 2 Axes>"
      ]
     },
     "metadata": {},
     "output_type": "display_data"
    }
   ],
   "source": [
    "# Shows off confusion matrix\n",
    "plt.figure(figsize=(8, 6))\n",
    "sns.heatmap(confusion_df, annot=True)\n",
    "plt.title(\"Confusion Matrix Heatmap\")\n",
    "plt.ylabel('Actual Label')\n",
    "plt.xlabel('Predicted Label')\n",
    "plt.show()"
   ]
  },
  {
   "cell_type": "code",
   "execution_count": 70,
   "id": "1b71c96a-1ce6-4fb0-b61e-25ef0a2260cc",
   "metadata": {},
   "outputs": [],
   "source": [
    "# Grabs the best model from our cross validation model\n",
    "best_model = cvModel.stages[-1].bestModel"
   ]
  },
  {
   "cell_type": "code",
   "execution_count": 71,
   "id": "d0c45dd7-5529-4a26-b994-204fdddf5dc0",
   "metadata": {},
   "outputs": [
    {
     "name": "stdout",
     "output_type": "stream",
     "text": [
      "Feature avg_shoredistance: 0.07312130297846942\n",
      "Feature avg_bathymetry: 0.0706327480891404\n",
      "Feature avg_sst: 0.05455668225190925\n",
      "Feature avg_sss: 0.05083632566851527\n",
      "Feature sum_count: 0.030795085667822478\n",
      "Feature log_sum_count: 0.022031542499806954\n",
      "Feature marine: 0.004605252612404107\n",
      "Feature brackish: 0.008512077240128299\n",
      "Feature freshwater: 0.003725827519370975\n",
      "Feature terrestrial: 0.00945211694865834\n",
      "Feature moving_avg_sst: 0.05609492761098902\n",
      "Feature rolling_stddev_sst: 0.030997572567410363\n",
      "Feature yoy_change_avg_sst: 0.029047335230171542\n",
      "Feature moving_avg_sss: 0.053785051133166416\n",
      "Feature rolling_stddev_sss: 0.0410733771571623\n",
      "Feature yoy_change_avg_sss: 0.029480033245893208\n",
      "Feature moving_avg_sum_cnt: 0.03682957149538153\n",
      "Feature rolling_stddev_sum_cnt: 0.03876243055010119\n",
      "Feature yoy_change_sum_cnt: 0.021395724230212135\n",
      "Feature moving_avg_log_cnt: 0.0428524874679056\n",
      "Feature rolling_stddev_log_cnt: 0.03186268774107319\n",
      "Feature yoy_change_log_cnt: 0.024592078278507304\n",
      "Feature difference_long: 0.05019728606782508\n",
      "Feature difference_lat: 0.04915663169034651\n",
      "Feature yoy_dif_lat: 0.031482662483250864\n",
      "Feature yoy_dif_long: 0.026275458615040003\n",
      "Feature yoy_dif_shoredistance: 0.031902069422123355\n",
      "Feature yoy_dif_bath: 0.04594365353721475\n"
     ]
    }
   ],
   "source": [
    "# Returns the most important features for our random forest model\n",
    "importances = best_model.featureImportances\n",
    "importance_list = importances.toArray()\n",
    "for i, importance in enumerate(importance_list):\n",
    "    print(f\"Feature {features[i]}: {importance}\")"
   ]
  },
  {
   "cell_type": "code",
   "execution_count": 72,
   "id": "372980d5-a630-466b-816a-3f587feeb9d8",
   "metadata": {},
   "outputs": [],
   "source": [
    "# Converts feature importance pairs into a list\n",
    "feature_importance_pairs = list(zip(features, importance_list))\n",
    "feature_importance_pairs.sort(key=lambda x: x[1])\n",
    "sorted_features, sorted_importance_list = zip(*feature_importance_pairs)"
   ]
  },
  {
   "cell_type": "code",
   "execution_count": 73,
   "id": "5a663a99-617a-4439-93f7-c1619839518f",
   "metadata": {},
   "outputs": [
    {
     "data": {
      "image/png": "[encoded data removed]",
      "text/plain": [
       "<Figure size 1000x600 with 1 Axes>"
      ]
     },
     "metadata": {},
     "output_type": "display_data"
    }
   ],
   "source": [
    "# Plots the feature importance\n",
    "plt.figure(figsize=(10, 6))\n",
    "plt.bar(sorted_features, sorted_importance_list)\n",
    "plt.xlabel('Features')\n",
    "plt.ylabel('Importance')\n",
    "plt.title('Feature Importances')\n",
    "plt.xticks(rotation=90)\n",
    "plt.tight_layout()\n",
    "plt.show()"
   ]
  }
 ],
 "metadata": {
  "kernelspec": {
   "display_name": "Python 3 (ipykernel)",
   "language": "python",
   "name": "python3"
  },
  "language_info": {
   "codemirror_mode": {
    "name": "ipython",
    "version": 3
   },
   "file_extension": ".py",
   "mimetype": "text/x-python",
   "name": "python",
   "nbconvert_exporter": "python",
   "pygments_lexer": "ipython3",
   "version": "3.11.6"
  }
 },
 "nbformat": 4,
 "nbformat_minor": 5
}
