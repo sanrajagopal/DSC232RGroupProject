{
 "cells": [
  {
   "cell_type": "markdown",
   "id": "a5282d27-ae5f-44f2-8d73-838767bf6376",
   "metadata": {},
   "source": [
    "# To get data download parquet file using link: https://obis.org/data/access/"
   ]
  },
  {
   "cell_type": "code",
   "execution_count": 1,
   "id": "7d008a7d-97e3-42e8-b768-805a21fdeafc",
   "metadata": {},
   "outputs": [
    {
     "name": "stderr",
     "output_type": "stream",
     "text": [
      "Matplotlib created a temporary cache directory at /scratch/srajagopal/job_30270477/matplotlib-pyefj08v because the default path (/home/jovyan/.cache/matplotlib) is not a writable directory; it is highly recommended to set the MPLCONFIGDIR environment variable to a writable directory, in particular to speed up the import of Matplotlib and to better support multiprocessing.\n"
     ]
    }
   ],
   "source": [
    "import os, pickle, glob\n",
    "from pyspark import SparkContext\n",
    "from pyspark.sql import SQLContext\n",
    "from pyspark.sql import SparkSession\n",
    "from pyspark.sql.types import Row, StructField, StructType, StringType, IntegerType\n",
    "from pyspark.sql import functions as f\n",
    "import matplotlib.pyplot as plt "
   ]
  },
  {
   "cell_type": "code",
   "execution_count": 2,
   "id": "4fdb022a-020d-447a-90f4-565a7d7cf3e9",
   "metadata": {},
   "outputs": [],
   "source": [
    "sc = SparkSession.builder \\\n",
    "    .config(\"spark.driver.memory\", \"2g\") \\\n",
    "\t.config(\"spark.executor.memory\", \"6g\") \\\n",
    "    .config('spark.executor.instances', 3) \\\n",
    "\t.getOrCreate()"
   ]
  },
  {
   "cell_type": "code",
   "execution_count": 3,
   "id": "2f47fd11-ebbf-48f7-84d8-93d85932ba95",
   "metadata": {},
   "outputs": [
    {
     "name": "stderr",
     "output_type": "stream",
     "text": [
      "/usr/local/spark/python/pyspark/sql/context.py:113: FutureWarning: Deprecated in 3.0.0. Use SparkSession.builder.getOrCreate() instead.\n",
      "  warnings.warn(\n"
     ]
    },
    {
     "data": {
      "text/plain": [
       "<pyspark.sql.context.SQLContext at 0x155551c9f650>"
      ]
     },
     "execution_count": 3,
     "metadata": {},
     "output_type": "execute_result"
    }
   ],
   "source": [
    "sqlContext = SQLContext(sc)\n",
    "sqlContext"
   ]
  },
  {
   "cell_type": "markdown",
   "id": "34acde07-21ec-418d-b10c-d3ed33cdf150",
   "metadata": {},
   "source": [
    "### Change path to where the file is"
   ]
  },
  {
   "cell_type": "code",
   "execution_count": 4,
   "id": "d085678b-7bba-44e4-8ea1-5a4b7417b4bf",
   "metadata": {},
   "outputs": [],
   "source": [
    "#loading parquet file \n",
    "df = sqlContext.read.load('../erichards/obis_20231025.parquet')"
   ]
  },
  {
   "cell_type": "code",
   "execution_count": 5,
   "id": "6c7deb32-482a-41ac-95ca-1f4ca1106622",
   "metadata": {},
   "outputs": [
    {
     "name": "stdout",
     "output_type": "stream",
     "text": [
      "root\n",
      " |-- id: string (nullable = true)\n",
      " |-- dataset_id: string (nullable = true)\n",
      " |-- decimalLongitude: float (nullable = true)\n",
      " |-- decimalLatitude: float (nullable = true)\n",
      " |-- date_start: long (nullable = true)\n",
      " |-- date_mid: long (nullable = true)\n",
      " |-- date_end: long (nullable = true)\n",
      " |-- date_year: long (nullable = true)\n",
      " |-- scientificName: string (nullable = true)\n",
      " |-- originalScientificName: string (nullable = true)\n",
      " |-- minimumDepthInMeters: float (nullable = true)\n",
      " |-- maximumDepthInMeters: float (nullable = true)\n",
      " |-- depth: float (nullable = true)\n",
      " |-- coordinateUncertaintyInMeters: float (nullable = true)\n",
      " |-- flags: string (nullable = true)\n",
      " |-- dropped: boolean (nullable = true)\n",
      " |-- absence: boolean (nullable = true)\n",
      " |-- shoredistance: string (nullable = true)\n",
      " |-- bathymetry: string (nullable = true)\n",
      " |-- sst: string (nullable = true)\n",
      " |-- sss: string (nullable = true)\n",
      " |-- marine: boolean (nullable = true)\n",
      " |-- brackish: boolean (nullable = true)\n",
      " |-- freshwater: boolean (nullable = true)\n",
      " |-- terrestrial: boolean (nullable = true)\n",
      " |-- taxonRank: string (nullable = true)\n",
      " |-- AphiaID: long (nullable = true)\n",
      " |-- redlist_category: string (nullable = true)\n",
      " |-- superdomain: string (nullable = true)\n",
      " |-- domain: string (nullable = true)\n",
      " |-- kingdom: string (nullable = true)\n",
      " |-- subkingdom: string (nullable = true)\n",
      " |-- infrakingdom: string (nullable = true)\n",
      " |-- phylum: string (nullable = true)\n",
      " |-- phylum_division: string (nullable = true)\n",
      " |-- subphylum_subdivision: string (nullable = true)\n",
      " |-- subphylum: string (nullable = true)\n",
      " |-- infraphylum: string (nullable = true)\n",
      " |-- parvphylum: string (nullable = true)\n",
      " |-- gigaclass: string (nullable = true)\n",
      " |-- megaclass: string (nullable = true)\n",
      " |-- superclass: string (nullable = true)\n",
      " |-- class: string (nullable = true)\n",
      " |-- subclass: string (nullable = true)\n",
      " |-- infraclass: string (nullable = true)\n",
      " |-- subterclass: string (nullable = true)\n",
      " |-- superorder: string (nullable = true)\n",
      " |-- order: string (nullable = true)\n",
      " |-- suborder: string (nullable = true)\n",
      " |-- infraorder: string (nullable = true)\n",
      " |-- parvorder: string (nullable = true)\n",
      " |-- superfamily: string (nullable = true)\n",
      " |-- family: string (nullable = true)\n",
      " |-- subfamily: string (nullable = true)\n",
      " |-- supertribe: string (nullable = true)\n",
      " |-- tribe: string (nullable = true)\n",
      " |-- subtribe: string (nullable = true)\n",
      " |-- genus: string (nullable = true)\n",
      " |-- subgenus: string (nullable = true)\n",
      " |-- section: string (nullable = true)\n",
      " |-- subsection: string (nullable = true)\n",
      " |-- series: string (nullable = true)\n",
      " |-- species: string (nullable = true)\n",
      " |-- subspecies: string (nullable = true)\n",
      " |-- natio: string (nullable = true)\n",
      " |-- variety: string (nullable = true)\n",
      " |-- subvariety: string (nullable = true)\n",
      " |-- forma: string (nullable = true)\n",
      " |-- subforma: string (nullable = true)\n",
      " |-- superdomainid: long (nullable = true)\n",
      " |-- domainid: long (nullable = true)\n",
      " |-- kingdomid: long (nullable = true)\n",
      " |-- subkingdomid: long (nullable = true)\n",
      " |-- infrakingdomid: long (nullable = true)\n",
      " |-- phylumid: long (nullable = true)\n",
      " |-- phylum_divisionid: long (nullable = true)\n",
      " |-- subphylum_subdivisionid: long (nullable = true)\n",
      " |-- subphylumid: long (nullable = true)\n",
      " |-- infraphylumid: long (nullable = true)\n",
      " |-- parvphylumid: long (nullable = true)\n",
      " |-- gigaclassid: long (nullable = true)\n",
      " |-- megaclassid: long (nullable = true)\n",
      " |-- superclassid: long (nullable = true)\n",
      " |-- classid: long (nullable = true)\n",
      " |-- subclassid: long (nullable = true)\n",
      " |-- infraclassid: long (nullable = true)\n",
      " |-- subterclassid: long (nullable = true)\n",
      " |-- superorderid: long (nullable = true)\n",
      " |-- orderid: long (nullable = true)\n",
      " |-- suborderid: long (nullable = true)\n",
      " |-- infraorderid: long (nullable = true)\n",
      " |-- parvorderid: long (nullable = true)\n",
      " |-- superfamilyid: long (nullable = true)\n",
      " |-- familyid: long (nullable = true)\n",
      " |-- subfamilyid: long (nullable = true)\n",
      " |-- supertribeid: long (nullable = true)\n",
      " |-- tribeid: long (nullable = true)\n",
      " |-- subtribeid: long (nullable = true)\n",
      " |-- genusid: long (nullable = true)\n",
      " |-- subgenusid: long (nullable = true)\n",
      " |-- sectionid: long (nullable = true)\n",
      " |-- subsectionid: long (nullable = true)\n",
      " |-- seriesid: long (nullable = true)\n",
      " |-- speciesid: long (nullable = true)\n",
      " |-- subspeciesid: long (nullable = true)\n",
      " |-- natioid: long (nullable = true)\n",
      " |-- varietyid: long (nullable = true)\n",
      " |-- subvarietyid: long (nullable = true)\n",
      " |-- formaid: long (nullable = true)\n",
      " |-- subformaid: long (nullable = true)\n",
      " |-- type: string (nullable = true)\n",
      " |-- modified: string (nullable = true)\n",
      " |-- language: string (nullable = true)\n",
      " |-- license: string (nullable = true)\n",
      " |-- rightsHolder: string (nullable = true)\n",
      " |-- accessRights: string (nullable = true)\n",
      " |-- bibliographicCitation: string (nullable = true)\n",
      " |-- references: string (nullable = true)\n",
      " |-- institutionID: string (nullable = true)\n",
      " |-- collectionID: string (nullable = true)\n",
      " |-- datasetID: string (nullable = true)\n",
      " |-- institutionCode: string (nullable = true)\n",
      " |-- collectionCode: string (nullable = true)\n",
      " |-- datasetName: string (nullable = true)\n",
      " |-- ownerInstitutionCode: string (nullable = true)\n",
      " |-- basisOfRecord: string (nullable = true)\n",
      " |-- informationWithheld: string (nullable = true)\n",
      " |-- dataGeneralizations: string (nullable = true)\n",
      " |-- dynamicProperties: string (nullable = true)\n",
      " |-- materialSampleID: string (nullable = true)\n",
      " |-- occurrenceID: string (nullable = true)\n",
      " |-- catalogNumber: string (nullable = true)\n",
      " |-- occurrenceRemarks: string (nullable = true)\n",
      " |-- recordNumber: string (nullable = true)\n",
      " |-- recordedBy: string (nullable = true)\n",
      " |-- recordedByID: string (nullable = true)\n",
      " |-- individualCount: string (nullable = true)\n",
      " |-- organismQuantity: string (nullable = true)\n",
      " |-- organismQuantityType: string (nullable = true)\n",
      " |-- sex: string (nullable = true)\n",
      " |-- lifeStage: string (nullable = true)\n",
      " |-- reproductiveCondition: string (nullable = true)\n",
      " |-- behavior: string (nullable = true)\n",
      " |-- establishmentMeans: string (nullable = true)\n",
      " |-- occurrenceStatus: string (nullable = true)\n",
      " |-- preparations: string (nullable = true)\n",
      " |-- disposition: string (nullable = true)\n",
      " |-- otherCatalogNumbers: string (nullable = true)\n",
      " |-- associatedMedia: string (nullable = true)\n",
      " |-- associatedReferences: string (nullable = true)\n",
      " |-- associatedSequences: string (nullable = true)\n",
      " |-- associatedTaxa: string (nullable = true)\n",
      " |-- organismID: string (nullable = true)\n",
      " |-- organismName: string (nullable = true)\n",
      " |-- organismScope: string (nullable = true)\n",
      " |-- associatedOccurrences: string (nullable = true)\n",
      " |-- associatedOrganisms: string (nullable = true)\n",
      " |-- previousIdentifications: string (nullable = true)\n",
      " |-- organismRemarks: string (nullable = true)\n",
      " |-- eventID: string (nullable = true)\n",
      " |-- parentEventID: string (nullable = true)\n",
      " |-- samplingProtocol: string (nullable = true)\n",
      " |-- sampleSizeValue: string (nullable = true)\n",
      " |-- sampleSizeUnit: string (nullable = true)\n",
      " |-- samplingEffort: string (nullable = true)\n",
      " |-- eventDate: string (nullable = true)\n",
      " |-- eventTime: string (nullable = true)\n",
      " |-- startDayOfYear: string (nullable = true)\n",
      " |-- endDayOfYear: string (nullable = true)\n",
      " |-- year: string (nullable = true)\n",
      " |-- month: string (nullable = true)\n",
      " |-- day: string (nullable = true)\n",
      " |-- verbatimEventDate: string (nullable = true)\n",
      " |-- habitat: string (nullable = true)\n",
      " |-- fieldNumber: string (nullable = true)\n",
      " |-- fieldNotes: string (nullable = true)\n",
      " |-- eventRemarks: string (nullable = true)\n",
      " |-- locationID: string (nullable = true)\n",
      " |-- higherGeographyID: string (nullable = true)\n",
      " |-- higherGeography: string (nullable = true)\n",
      " |-- continent: string (nullable = true)\n",
      " |-- waterBody: string (nullable = true)\n",
      " |-- islandGroup: string (nullable = true)\n",
      " |-- island: string (nullable = true)\n",
      " |-- country: string (nullable = true)\n",
      " |-- countryCode: string (nullable = true)\n",
      " |-- stateProvince: string (nullable = true)\n",
      " |-- county: string (nullable = true)\n",
      " |-- municipality: string (nullable = true)\n",
      " |-- locality: string (nullable = true)\n",
      " |-- verbatimLocality: string (nullable = true)\n",
      " |-- verbatimElevation: string (nullable = true)\n",
      " |-- minimumElevationInMeters: string (nullable = true)\n",
      " |-- maximumElevationInMeters: string (nullable = true)\n",
      " |-- verbatimDepth: string (nullable = true)\n",
      " |-- minimumDistanceAboveSurfaceInMeters: string (nullable = true)\n",
      " |-- maximumDistanceAboveSurfaceInMeters: string (nullable = true)\n",
      " |-- locationAccordingTo: string (nullable = true)\n",
      " |-- locationRemarks: string (nullable = true)\n",
      " |-- verbatimCoordinates: string (nullable = true)\n",
      " |-- verbatimLatitude: string (nullable = true)\n",
      " |-- verbatimLongitude: string (nullable = true)\n",
      " |-- verbatimCoordinateSystem: string (nullable = true)\n",
      " |-- verbatimSRS: string (nullable = true)\n",
      " |-- geodeticDatum: string (nullable = true)\n",
      " |-- coordinatePrecision: string (nullable = true)\n",
      " |-- pointRadiusSpatialFit: string (nullable = true)\n",
      " |-- footprintWKT: string (nullable = true)\n",
      " |-- footprintSRS: string (nullable = true)\n",
      " |-- footprintSpatialFit: string (nullable = true)\n",
      " |-- georeferencedBy: string (nullable = true)\n",
      " |-- georeferencedDate: string (nullable = true)\n",
      " |-- georeferenceProtocol: string (nullable = true)\n",
      " |-- georeferenceSources: string (nullable = true)\n",
      " |-- georeferenceVerificationStatus: string (nullable = true)\n",
      " |-- georeferenceRemarks: string (nullable = true)\n",
      " |-- geologicalContextID: string (nullable = true)\n",
      " |-- earliestEonOrLowestEonothem: string (nullable = true)\n",
      " |-- latestEonOrHighestEonothem: string (nullable = true)\n",
      " |-- earliestEraOrLowestErathem: string (nullable = true)\n",
      " |-- latestEraOrHighestErathem: string (nullable = true)\n",
      " |-- earliestPeriodOrLowestSystem: string (nullable = true)\n",
      " |-- latestPeriodOrHighestSystem: string (nullable = true)\n",
      " |-- earliestEpochOrLowestSeries: string (nullable = true)\n",
      " |-- latestEpochOrHighestSeries: string (nullable = true)\n",
      " |-- earliestAgeOrLowestStage: string (nullable = true)\n",
      " |-- latestAgeOrHighestStage: string (nullable = true)\n",
      " |-- lowestBiostratigraphicZone: string (nullable = true)\n",
      " |-- highestBiostratigraphicZone: string (nullable = true)\n",
      " |-- lithostratigraphicTerms: string (nullable = true)\n",
      " |-- group: string (nullable = true)\n",
      " |-- formation: string (nullable = true)\n",
      " |-- member: string (nullable = true)\n",
      " |-- bed: string (nullable = true)\n",
      " |-- identificationID: string (nullable = true)\n",
      " |-- identifiedBy: string (nullable = true)\n",
      " |-- identifiedByID: string (nullable = true)\n",
      " |-- dateIdentified: string (nullable = true)\n",
      " |-- identificationReferences: string (nullable = true)\n",
      " |-- identificationRemarks: string (nullable = true)\n",
      " |-- identificationQualifier: string (nullable = true)\n",
      " |-- identificationVerificationStatus: string (nullable = true)\n",
      " |-- typeStatus: string (nullable = true)\n",
      " |-- taxonID: string (nullable = true)\n",
      " |-- scientificNameID: string (nullable = true)\n",
      " |-- acceptedNameUsageID: string (nullable = true)\n",
      " |-- parentNameUsageID: string (nullable = true)\n",
      " |-- originalNameUsageID: string (nullable = true)\n",
      " |-- nameAccordingToID: string (nullable = true)\n",
      " |-- namePublishedInID: string (nullable = true)\n",
      " |-- taxonConceptID: string (nullable = true)\n",
      " |-- acceptedNameUsage: string (nullable = true)\n",
      " |-- parentNameUsage: string (nullable = true)\n",
      " |-- originalNameUsage: string (nullable = true)\n",
      " |-- nameAccordingTo: string (nullable = true)\n",
      " |-- namePublishedIn: string (nullable = true)\n",
      " |-- namePublishedInYear: string (nullable = true)\n",
      " |-- higherClassification: string (nullable = true)\n",
      " |-- specificEpithet: string (nullable = true)\n",
      " |-- infraspecificEpithet: string (nullable = true)\n",
      " |-- verbatimTaxonRank: string (nullable = true)\n",
      " |-- scientificNameAuthorship: string (nullable = true)\n",
      " |-- vernacularName: string (nullable = true)\n",
      " |-- nomenclaturalCode: string (nullable = true)\n",
      " |-- taxonomicStatus: string (nullable = true)\n",
      " |-- nomenclaturalStatus: string (nullable = true)\n",
      " |-- taxonRemarks: string (nullable = true)\n",
      " |-- geometry: string (nullable = true)\n",
      "\n"
     ]
    }
   ],
   "source": [
    "df.printSchema()"
   ]
  },
  {
   "cell_type": "markdown",
   "id": "def7bc65-33e7-47f8-86a4-ef4b13c6ae7c",
   "metadata": {},
   "source": [
    "### Distinct Observations per year"
   ]
  },
  {
   "cell_type": "code",
   "execution_count": 6,
   "id": "b3ce5bb2-8087-4222-b940-ccc899a875b0",
   "metadata": {},
   "outputs": [],
   "source": [
    "df_dates = df.groupBy(df.date_year).agg({'date_year':'count'}).sort(df.date_year).cache()"
   ]
  },
  {
   "cell_type": "code",
   "execution_count": 7,
   "id": "bebc2de8-0ba2-4c0e-bbc5-bd61abb282d5",
   "metadata": {},
   "outputs": [],
   "source": [
    "df_dates = df_dates.withColumnRenamed('count(date_year)','obs_per_year')"
   ]
  },
  {
   "cell_type": "code",
   "execution_count": 8,
   "id": "c75409ac-9dff-4c38-b36b-f2109511e0b9",
   "metadata": {},
   "outputs": [
    {
     "name": "stdout",
     "output_type": "stream",
     "text": [
      "+---------+------------+\n",
      "|date_year|obs_per_year|\n",
      "+---------+------------+\n",
      "|     NULL|           0|\n",
      "|      201|           1|\n",
      "|      931|           1|\n",
      "|      941|           1|\n",
      "|      966|           1|\n",
      "|     1064|           2|\n",
      "|     1071|           2|\n",
      "|     1073|           2|\n",
      "|     1076|           1|\n",
      "|     1103|           1|\n",
      "|     1104|           1|\n",
      "|     1116|           2|\n",
      "|     1119|           2|\n",
      "|     1193|           1|\n",
      "|     1199|           4|\n",
      "|     1200|           1|\n",
      "|     1291|           1|\n",
      "|     1520|           1|\n",
      "|     1526|           1|\n",
      "|     1596|           1|\n",
      "+---------+------------+\n",
      "only showing top 20 rows\n",
      "\n"
     ]
    }
   ],
   "source": [
    "df_dates.show()"
   ]
  },
  {
   "cell_type": "code",
   "execution_count": 9,
   "id": "2e28c6c4-7ed8-4c19-83f9-3a83908e0682",
   "metadata": {},
   "outputs": [],
   "source": [
    "pandas_df_dates = df_dates.toPandas()"
   ]
  },
  {
   "cell_type": "code",
   "execution_count": 10,
   "id": "3d4a73ae-18bc-4e80-ab05-9bd0666c3c2f",
   "metadata": {},
   "outputs": [],
   "source": [
    "#filtering out dates below 1899 \n",
    "pandas_df_dates_cut= pandas_df_dates[pandas_df_dates.date_year > 1899]"
   ]
  },
  {
   "cell_type": "code",
   "execution_count": 11,
   "id": "e5eabed3-c205-4611-9ae8-b16d6ea9c8d4",
   "metadata": {},
   "outputs": [
    {
     "data": {
      "text/plain": [
       "Text(0, 0.5, 'Observations(per 10 million)')"
      ]
     },
     "execution_count": 11,
     "metadata": {},
     "output_type": "execute_result"
    },
    {
     "data": {
      "image/png": "[encoded data removed]",
      "text/plain": [
       "<Figure size 640x480 with 1 Axes>"
      ]
     },
     "metadata": {},
     "output_type": "display_data"
    }
   ],
   "source": [
    "plt.bar(pandas_df_dates_cut.date_year,pandas_df_dates_cut.obs_per_year)\n",
    "plt.title(\"Number of Observations per Year\")\n",
    "plt.xlabel(\"Years\")\n",
    "plt.ylabel(\"Observations(per 10 million)\")"
   ]
  },
  {
   "cell_type": "markdown",
   "id": "f0d4cd2a-2f34-4ad7-ba13-2de684d63676",
   "metadata": {},
   "source": [
    "### Distinct IUCN classification by Species "
   ]
  },
  {
   "cell_type": "code",
   "execution_count": 12,
   "id": "c638d86c-0984-494c-856a-368032a5f782",
   "metadata": {},
   "outputs": [
    {
     "data": {
      "text/plain": [
       "1979"
      ]
     },
     "execution_count": 12,
     "metadata": {},
     "output_type": "execute_result"
    }
   ],
   "source": [
    "#distinct counts of species \n",
    "df.select(\"scientificName\",\"redlist_category\").filter(df.scientificName != \"\").filter(df.redlist_category != \"\").distinct().count()"
   ]
  },
  {
   "cell_type": "code",
   "execution_count": 13,
   "id": "55deb243-a34b-4cb4-8b18-8424bde9c103",
   "metadata": {},
   "outputs": [],
   "source": [
    "df_redlist_distinct = df.select(\"scientificName\",\"redlist_category\").filter(df.scientificName != \"\").filter(df.redlist_category != \"\").distinct().cache()"
   ]
  },
  {
   "cell_type": "code",
   "execution_count": 14,
   "id": "c6c758d2-ff1a-40c2-a9ce-c10f94247b68",
   "metadata": {},
   "outputs": [
    {
     "name": "stdout",
     "output_type": "stream",
     "text": [
      "+--------------------+----------------+\n",
      "|      scientificName|redlist_category|\n",
      "+--------------------+----------------+\n",
      "|  Glaucostegus typus|              CR|\n",
      "|Echinopelta fistu...|              NT|\n",
      "|   Hippocampus comes|              VU|\n",
      "|Diplobatis colomb...|              VU|\n",
      "|Eretmochelys imbr...|              CR|\n",
      "|Pterodroma arminj...|              VU|\n",
      "|  Porites nigrescens|              VU|\n",
      "|  Squalus montalbani|              VU|\n",
      "|   Ecsenius randalli|              VU|\n",
      "|   Leptastrea bottae|              NT|\n",
      "|    Dialommus fuscus|              VU|\n",
      "|       Oxyura maccoa|              EN|\n",
      "|Glaucostegus gran...|              CR|\n",
      "|  Centrophorus uyato|              EN|\n",
      "|Argyrosomus inodorus|              VU|\n",
      "|Caulastraea echin...|              VU|\n",
      "|   Alveopora viridis|              NT|\n",
      "|    Calidris pusilla|              NT|\n",
      "|   Hippocampus reidi|              NT|\n",
      "|    Leptoria phrygia|              NT|\n",
      "+--------------------+----------------+\n",
      "only showing top 20 rows\n",
      "\n"
     ]
    }
   ],
   "source": [
    "#IUCN classification by species \n",
    "df_redlist_distinct.show()"
   ]
  },
  {
   "cell_type": "code",
   "execution_count": 15,
   "id": "08745f8d-39fd-459e-8911-d13fa9d1963e",
   "metadata": {},
   "outputs": [],
   "source": [
    "df_redlist_count= df_redlist_distinct.select(\"redlist_category\").groupBy(\"redlist_category\").agg({'redlist_category':'count'})"
   ]
  },
  {
   "cell_type": "code",
   "execution_count": 16,
   "id": "4af9f099-0022-44b9-a41b-45ec9ddf7db9",
   "metadata": {},
   "outputs": [],
   "source": [
    "df_redlist_count = df_redlist_count.withColumnRenamed('count(redlist_category)','obs_per_cat')"
   ]
  },
  {
   "cell_type": "code",
   "execution_count": 17,
   "id": "f7b3cedf-5d4e-4a7d-b3a1-814cb02510c1",
   "metadata": {},
   "outputs": [
    {
     "name": "stdout",
     "output_type": "stream",
     "text": [
      "+----------------+-----------+\n",
      "|redlist_category|obs_per_cat|\n",
      "+----------------+-----------+\n",
      "|              EX|          8|\n",
      "|              NT|        562|\n",
      "|           LR/nt|          5|\n",
      "|              EN|        371|\n",
      "|              CR|        225|\n",
      "|           LR/cd|          5|\n",
      "|              EW|          1|\n",
      "|              VU|        802|\n",
      "+----------------+-----------+\n",
      "\n"
     ]
    }
   ],
   "source": [
    "df_redlist_count.show()"
   ]
  },
  {
   "cell_type": "code",
   "execution_count": 18,
   "id": "03b133ca-859f-440c-bf7a-0d383ba659bd",
   "metadata": {},
   "outputs": [],
   "source": [
    "pandas_redlist_count = df_redlist_count.toPandas()"
   ]
  },
  {
   "cell_type": "code",
   "execution_count": 19,
   "id": "c5375308-4ad4-4e99-87a8-a39e810cb993",
   "metadata": {},
   "outputs": [
    {
     "data": {
      "text/plain": [
       "Text(0, 0.5, 'Number of species')"
      ]
     },
     "execution_count": 19,
     "metadata": {},
     "output_type": "execute_result"
    },
    {
     "data": {
      "image/png": "[encoded data removed]",
      "text/plain": [
       "<Figure size 640x480 with 1 Axes>"
      ]
     },
     "metadata": {},
     "output_type": "display_data"
    }
   ],
   "source": [
    "plt.bar(pandas_redlist_count.redlist_category,pandas_redlist_count.obs_per_cat)\n",
    "plt.title(\"Number of Distinct Specnies per IUCN classification\")\n",
    "plt.xlabel(\"IUCN Classification\")\n",
    "plt.ylabel(\"Number of species\")"
   ]
  },
  {
   "cell_type": "markdown",
   "id": "64a67ba5-c730-458d-9350-89bcd263b095",
   "metadata": {},
   "source": [
    "### Orca observations over time"
   ]
  },
  {
   "cell_type": "code",
   "execution_count": 20,
   "id": "bc3c08c7-f892-400e-bfbd-c178ce3a4ce8",
   "metadata": {},
   "outputs": [],
   "source": [
    "df_orca = df.filter(df.scientificName == \"Orcinus orca\").select(\"date_year\").groupBy(\"date_year\").agg({'date_year':'count'}).sort(\"date_year\").cache()"
   ]
  },
  {
   "cell_type": "code",
   "execution_count": 21,
   "id": "1e5e091d-9106-4cbe-be33-289e9938aae1",
   "metadata": {},
   "outputs": [],
   "source": [
    "df_orca = df_orca.withColumnRenamed('count(date_year)','obs_per_year')"
   ]
  },
  {
   "cell_type": "code",
   "execution_count": 22,
   "id": "f694380e-6a9c-448e-897d-eb33b9861ce2",
   "metadata": {},
   "outputs": [
    {
     "name": "stdout",
     "output_type": "stream",
     "text": [
      "+---------+------------+\n",
      "|date_year|obs_per_year|\n",
      "+---------+------------+\n",
      "|     NULL|           0|\n",
      "|     1758|           4|\n",
      "|     1822|           2|\n",
      "|     1824|           1|\n",
      "|     1844|           1|\n",
      "|     1848|           1|\n",
      "|     1866|           2|\n",
      "|     1871|           1|\n",
      "|     1872|           1|\n",
      "|     1884|           1|\n",
      "|     1894|           1|\n",
      "|     1910|           2|\n",
      "|     1911|           8|\n",
      "|     1912|           6|\n",
      "|     1913|           2|\n",
      "|     1916|           1|\n",
      "|     1918|           3|\n",
      "|     1920|           1|\n",
      "|     1921|           1|\n",
      "|     1924|           2|\n",
      "+---------+------------+\n",
      "only showing top 20 rows\n",
      "\n"
     ]
    }
   ],
   "source": [
    "df_orca.show()"
   ]
  },
  {
   "cell_type": "code",
   "execution_count": 23,
   "id": "ddf86c21-f57c-4680-99c8-ac81f68405da",
   "metadata": {},
   "outputs": [],
   "source": [
    "pandas_orca = df_orca.toPandas()"
   ]
  },
  {
   "cell_type": "code",
   "execution_count": 24,
   "id": "d639d776-0876-4c92-9f9d-05e9aaedbbc4",
   "metadata": {
    "scrolled": true
   },
   "outputs": [
    {
     "data": {
      "text/plain": [
       "Text(0, 0.5, 'Number of observations')"
      ]
     },
     "execution_count": 24,
     "metadata": {},
     "output_type": "execute_result"
    },
    {
     "data": {
      "image/png": "[encoded data removed]",
      "text/plain": [
       "<Figure size 640x480 with 1 Axes>"
      ]
     },
     "metadata": {},
     "output_type": "display_data"
    }
   ],
   "source": [
    "plt.plot(pandas_orca.date_year,pandas_orca.obs_per_year)\n",
    "plt.title(\"Orca Observations over Time\")\n",
    "plt.xlabel(\"Year\")\n",
    "plt.ylabel(\"Number of observations\")"
   ]
  }
 ],
 "metadata": {
  "kernelspec": {
   "display_name": "Python 3 (ipykernel)",
   "language": "python",
   "name": "python3"
  },
  "language_info": {
   "codemirror_mode": {
    "name": "ipython",
    "version": 3
   },
   "file_extension": ".py",
   "mimetype": "text/x-python",
   "name": "python",
   "nbconvert_exporter": "python",
   "pygments_lexer": "ipython3",
   "version": "3.11.6"
  }
 },
 "nbformat": 4,
 "nbformat_minor": 5
}
